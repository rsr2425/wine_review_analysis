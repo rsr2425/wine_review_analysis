{
 "cells": [
  {
   "cell_type": "code",
   "execution_count": 1,
   "metadata": {},
   "outputs": [],
   "source": [
    "from pathlib import Path\n",
    "\n",
    "path = Path('~/wine_analysis')\n",
    "data_path = path/'wine-reviews'"
   ]
  },
  {
   "cell_type": "code",
   "execution_count": 2,
   "metadata": {},
   "outputs": [],
   "source": [
    "import pandas as pd\n",
    "\n",
    "wine_data = pd.read_csv(data_path/'winemag-data-130k-v2.csv')\n",
    "clean_wine_data = wine_data[wine_data['price'].notna()]"
   ]
  },
  {
   "cell_type": "code",
   "execution_count": 22,
   "metadata": {},
   "outputs": [
    {
     "data": {
      "text/html": [
       "<div>\n",
       "<style scoped>\n",
       "    .dataframe tbody tr th:only-of-type {\n",
       "        vertical-align: middle;\n",
       "    }\n",
       "\n",
       "    .dataframe tbody tr th {\n",
       "        vertical-align: top;\n",
       "    }\n",
       "\n",
       "    .dataframe thead th {\n",
       "        text-align: right;\n",
       "    }\n",
       "</style>\n",
       "<table border=\"1\" class=\"dataframe\">\n",
       "  <thead>\n",
       "    <tr style=\"text-align: right;\">\n",
       "      <th></th>\n",
       "      <th>country</th>\n",
       "      <th>description</th>\n",
       "      <th>designation</th>\n",
       "      <th>points</th>\n",
       "      <th>price</th>\n",
       "      <th>province</th>\n",
       "      <th>region_1</th>\n",
       "      <th>region_2</th>\n",
       "      <th>taster_name</th>\n",
       "      <th>taster_twitter_handle</th>\n",
       "      <th>title</th>\n",
       "      <th>variety</th>\n",
       "      <th>winery</th>\n",
       "    </tr>\n",
       "  </thead>\n",
       "  <tbody>\n",
       "    <tr>\n",
       "      <th>1</th>\n",
       "      <td>Portugal</td>\n",
       "      <td>This is ripe and fruity, a wine that is smooth...</td>\n",
       "      <td>Avidagos</td>\n",
       "      <td>87</td>\n",
       "      <td>15.0</td>\n",
       "      <td>Douro</td>\n",
       "      <td>NaN</td>\n",
       "      <td>NaN</td>\n",
       "      <td>Roger Voss</td>\n",
       "      <td>@vossroger</td>\n",
       "      <td>Quinta dos Avidagos 2011 Avidagos Red (Douro)</td>\n",
       "      <td>Portuguese Red</td>\n",
       "      <td>Quinta dos Avidagos</td>\n",
       "    </tr>\n",
       "    <tr>\n",
       "      <th>2</th>\n",
       "      <td>US</td>\n",
       "      <td>Tart and snappy, the flavors of lime flesh and...</td>\n",
       "      <td>NaN</td>\n",
       "      <td>87</td>\n",
       "      <td>14.0</td>\n",
       "      <td>Oregon</td>\n",
       "      <td>Willamette Valley</td>\n",
       "      <td>Willamette Valley</td>\n",
       "      <td>Paul Gregutt</td>\n",
       "      <td>@paulgwine</td>\n",
       "      <td>Rainstorm 2013 Pinot Gris (Willamette Valley)</td>\n",
       "      <td>Pinot Gris</td>\n",
       "      <td>Rainstorm</td>\n",
       "    </tr>\n",
       "    <tr>\n",
       "      <th>3</th>\n",
       "      <td>US</td>\n",
       "      <td>Pineapple rind, lemon pith and orange blossom ...</td>\n",
       "      <td>Reserve Late Harvest</td>\n",
       "      <td>87</td>\n",
       "      <td>13.0</td>\n",
       "      <td>Michigan</td>\n",
       "      <td>Lake Michigan Shore</td>\n",
       "      <td>NaN</td>\n",
       "      <td>Alexander Peartree</td>\n",
       "      <td>NaN</td>\n",
       "      <td>St. Julian 2013 Reserve Late Harvest Riesling ...</td>\n",
       "      <td>Riesling</td>\n",
       "      <td>St. Julian</td>\n",
       "    </tr>\n",
       "    <tr>\n",
       "      <th>4</th>\n",
       "      <td>US</td>\n",
       "      <td>Much like the regular bottling from 2012, this...</td>\n",
       "      <td>Vintner's Reserve Wild Child Block</td>\n",
       "      <td>87</td>\n",
       "      <td>65.0</td>\n",
       "      <td>Oregon</td>\n",
       "      <td>Willamette Valley</td>\n",
       "      <td>Willamette Valley</td>\n",
       "      <td>Paul Gregutt</td>\n",
       "      <td>@paulgwine</td>\n",
       "      <td>Sweet Cheeks 2012 Vintner's Reserve Wild Child...</td>\n",
       "      <td>Pinot Noir</td>\n",
       "      <td>Sweet Cheeks</td>\n",
       "    </tr>\n",
       "    <tr>\n",
       "      <th>5</th>\n",
       "      <td>Spain</td>\n",
       "      <td>Blackberry and raspberry aromas show a typical...</td>\n",
       "      <td>Ars In Vitro</td>\n",
       "      <td>87</td>\n",
       "      <td>15.0</td>\n",
       "      <td>Northern Spain</td>\n",
       "      <td>Navarra</td>\n",
       "      <td>NaN</td>\n",
       "      <td>Michael Schachner</td>\n",
       "      <td>@wineschach</td>\n",
       "      <td>Tandem 2011 Ars In Vitro Tempranillo-Merlot (N...</td>\n",
       "      <td>Tempranillo-Merlot</td>\n",
       "      <td>Tandem</td>\n",
       "    </tr>\n",
       "  </tbody>\n",
       "</table>\n",
       "</div>"
      ],
      "text/plain": [
       "    country                                        description  \\\n",
       "1  Portugal  This is ripe and fruity, a wine that is smooth...   \n",
       "2        US  Tart and snappy, the flavors of lime flesh and...   \n",
       "3        US  Pineapple rind, lemon pith and orange blossom ...   \n",
       "4        US  Much like the regular bottling from 2012, this...   \n",
       "5     Spain  Blackberry and raspberry aromas show a typical...   \n",
       "\n",
       "                          designation  points  price        province  \\\n",
       "1                            Avidagos      87   15.0           Douro   \n",
       "2                                 NaN      87   14.0          Oregon   \n",
       "3                Reserve Late Harvest      87   13.0        Michigan   \n",
       "4  Vintner's Reserve Wild Child Block      87   65.0          Oregon   \n",
       "5                        Ars In Vitro      87   15.0  Northern Spain   \n",
       "\n",
       "              region_1           region_2         taster_name  \\\n",
       "1                  NaN                NaN          Roger Voss   \n",
       "2    Willamette Valley  Willamette Valley        Paul Gregutt   \n",
       "3  Lake Michigan Shore                NaN  Alexander Peartree   \n",
       "4    Willamette Valley  Willamette Valley        Paul Gregutt   \n",
       "5              Navarra                NaN   Michael Schachner   \n",
       "\n",
       "  taster_twitter_handle                                              title  \\\n",
       "1            @vossroger      Quinta dos Avidagos 2011 Avidagos Red (Douro)   \n",
       "2           @paulgwine       Rainstorm 2013 Pinot Gris (Willamette Valley)   \n",
       "3                   NaN  St. Julian 2013 Reserve Late Harvest Riesling ...   \n",
       "4           @paulgwine   Sweet Cheeks 2012 Vintner's Reserve Wild Child...   \n",
       "5           @wineschach  Tandem 2011 Ars In Vitro Tempranillo-Merlot (N...   \n",
       "\n",
       "              variety               winery  \n",
       "1      Portuguese Red  Quinta dos Avidagos  \n",
       "2          Pinot Gris            Rainstorm  \n",
       "3            Riesling           St. Julian  \n",
       "4          Pinot Noir         Sweet Cheeks  \n",
       "5  Tempranillo-Merlot               Tandem  "
      ]
     },
     "execution_count": 22,
     "metadata": {},
     "output_type": "execute_result"
    }
   ],
   "source": [
    "clean_wine_data.head()"
   ]
  },
  {
   "cell_type": "markdown",
   "metadata": {},
   "source": [
    "There are probably a lot of interesting work I can do using NLP on the descriptions and titles, but for now I'm going to remove them to just create some quick and easy GLM's."
   ]
  },
  {
   "cell_type": "code",
   "execution_count": 19,
   "metadata": {},
   "outputs": [
    {
     "data": {
      "text/plain": [
       "Index(['country', 'description', 'designation', 'points', 'price', 'province',\n",
       "       'region_1', 'region_2', 'taster_name', 'taster_twitter_handle', 'title',\n",
       "       'variety', 'winery'],\n",
       "      dtype='object')"
      ]
     },
     "execution_count": 19,
     "metadata": {},
     "output_type": "execute_result"
    }
   ],
   "source": [
    "clean_wine_data.columns"
   ]
  },
  {
   "cell_type": "code",
   "execution_count": 3,
   "metadata": {},
   "outputs": [
    {
     "data": {
      "text/plain": [
       "Index(['country', 'designation', 'points', 'price', 'province', 'region_1',\n",
       "       'region_2', 'taster_name', 'variety', 'winery'],\n",
       "      dtype='object')"
      ]
     },
     "execution_count": 3,
     "metadata": {},
     "output_type": "execute_result"
    }
   ],
   "source": [
    "test_vars = ['country', 'designation', 'points', 'price', 'province',\n",
    "       'region_1', 'region_2', 'taster_name',\n",
    "       'variety', 'winery']\n",
    "model_data = clean_wine_data[test_vars]\n",
    "model_data.columns"
   ]
  },
  {
   "cell_type": "code",
   "execution_count": 4,
   "metadata": {},
   "outputs": [],
   "source": [
    "X, y = model_data.drop('price', axis=1), model_data['price']"
   ]
  },
  {
   "cell_type": "code",
   "execution_count": 5,
   "metadata": {},
   "outputs": [],
   "source": [
    "import statsmodels.api as sm\n",
    "import statsmodels.formula.api as smf\n",
    "import numpy as np\n",
    "import matplotlib.pyplot as plt\n",
    "\n",
    "from sklearn.model_selection import train_test_split"
   ]
  },
  {
   "cell_type": "code",
   "execution_count": 6,
   "metadata": {},
   "outputs": [],
   "source": [
    "X_train, X_test, y_train, y_test = train_test_split(X, y, test_size=0.2)"
   ]
  },
  {
   "cell_type": "code",
   "execution_count": 7,
   "metadata": {},
   "outputs": [
    {
     "name": "stderr",
     "output_type": "stream",
     "text": [
      "/usr/local/lib/python3.7/site-packages/ipykernel_launcher.py:3: SettingWithCopyWarning: \n",
      "A value is trying to be set on a copy of a slice from a DataFrame.\n",
      "Try using .loc[row_indexer,col_indexer] = value instead\n",
      "\n",
      "See the caveats in the documentation: http://pandas.pydata.org/pandas-docs/stable/indexing.html#indexing-view-versus-copy\n",
      "  This is separate from the ipykernel package so we can avoid doing imports until\n"
     ]
    },
    {
     "name": "stdout",
     "output_type": "stream",
     "text": [
      "                 Generalized Linear Model Regression Results                  \n",
      "==============================================================================\n",
      "Dep. Variable:                  price   No. Observations:                96736\n",
      "Model:                            GLM   Df Residuals:                    96694\n",
      "Model Family:                Gaussian   Df Model:                           41\n",
      "Link Function:               identity   Scale:                          1705.6\n",
      "Method:                          IRLS   Log-Likelihood:            -4.9718e+05\n",
      "Date:                Sun, 31 Mar 2019   Deviance:                   1.6492e+08\n",
      "Time:                        14:27:23   Pearson chi2:                 1.65e+08\n",
      "No. Iterations:                     3   Covariance Type:             nonrobust\n",
      "=====================================================================================================\n",
      "                                        coef    std err          z      P>|z|      [0.025      0.975]\n",
      "-----------------------------------------------------------------------------------------------------\n",
      "Intercept                            24.3776      0.748     32.604      0.000      22.912      25.843\n",
      "country[T.Armenia]                   -9.8776     29.212     -0.338      0.735     -67.133      47.378\n",
      "country[T.Australia]                 11.9677      1.219      9.816      0.000       9.578      14.357\n",
      "country[T.Austria]                    6.3842      1.147      5.566      0.000       4.136       8.632\n",
      "country[T.Bosnia and Herzegovina]   -11.3776     41.306     -0.275      0.783     -92.336      69.581\n",
      "country[T.Brazil]                    -0.5026      6.573     -0.076      0.939     -13.385      12.380\n",
      "country[T.Bulgaria]                  -9.8687      3.973     -2.484      0.013     -17.656      -2.081\n",
      "country[T.Canada]                    10.9999      2.987      3.683      0.000       5.146      16.854\n",
      "country[T.Chile]                     -3.7642      1.023     -3.680      0.000      -5.769      -1.760\n",
      "country[T.China]                     -6.3776     41.306     -0.154      0.877     -87.336      74.581\n",
      "country[T.Croatia]                    1.8258      5.428      0.336      0.737      -8.814      12.465\n",
      "country[T.Cyprus]                    -7.7776     18.485     -0.421      0.674     -44.007      28.452\n",
      "country[T.Czech Republic]            -0.0026     14.621     -0.000      1.000     -28.658      28.653\n",
      "country[T.England]                   26.8293      5.474      4.901      0.000      16.100      37.558\n",
      "country[T.France]                    17.2067      0.824     20.882      0.000      15.592      18.822\n",
      "country[T.Georgia]                   -5.3141      5.257     -1.011      0.312     -15.617       4.989\n",
      "country[T.Germany]                   18.1531      1.255     14.465      0.000      15.693      20.613\n",
      "country[T.Greece]                    -1.7765      2.271     -0.782      0.434      -6.227       2.674\n",
      "country[T.Hungary]                   16.7834      3.875      4.332      0.000       9.189      24.378\n",
      "country[T.India]                    -11.0442     13.787     -0.801      0.423     -38.066      15.977\n",
      "country[T.Israel]                     6.9760      2.206      3.162      0.002       2.652      11.300\n",
      "country[T.Italy]                     15.3673      0.828     18.556      0.000      13.744      16.990\n",
      "country[T.Lebanon]                    7.2431      7.705      0.940      0.347      -7.859      22.345\n",
      "country[T.Luxembourg]                -0.7776     18.485     -0.042      0.966     -37.007      35.452\n",
      "country[T.Macedonia]                 -8.7412     12.475     -0.701      0.483     -33.191      15.709\n",
      "country[T.Mexico]                     1.8856      5.521      0.342      0.733      -8.936      12.707\n",
      "country[T.Moldova]                   -6.9109      6.202     -1.114      0.265     -19.066       5.244\n",
      "country[T.Morocco]                   -6.5442      8.463     -0.773      0.439     -23.132      10.043\n",
      "country[T.New Zealand]                2.4383      1.443      1.689      0.091      -0.391       5.267\n",
      "country[T.Peru]                      -5.3776     11.479     -0.468      0.639     -27.875      17.120\n",
      "country[T.Portugal]                   1.5056      0.998      1.509      0.131      -0.450       3.462\n",
      "country[T.Romania]                  -10.9652      4.259     -2.574      0.010     -19.314      -2.617\n",
      "country[T.Serbia]                     1.0224     13.081      0.078      0.938     -24.617      26.661\n",
      "country[T.Slovakia]                  -8.3776     41.306     -0.203      0.839     -89.336      72.581\n",
      "country[T.Slovenia]                   0.3255      5.216      0.062      0.950      -9.898      10.549\n",
      "country[T.South Africa]               0.2715      1.472      0.184      0.854      -2.614       3.157\n",
      "country[T.Spain]                      4.2242      0.940      4.493      0.000       2.381       6.067\n",
      "country[T.Switzerland]               60.9081     15.628      3.897      0.000      30.279      91.537\n",
      "country[T.Turkey]                     0.3971      4.958      0.080      0.936      -9.320      10.115\n",
      "country[T.US]                        12.1628      0.774     15.724      0.000      10.647      13.679\n",
      "country[T.Ukraine]                  -14.9160     11.479     -1.299      0.194     -37.414       7.582\n",
      "country[T.Uruguay]                    2.5178      4.516      0.558      0.577      -6.333      11.368\n",
      "=====================================================================================================\n"
     ]
    }
   ],
   "source": [
    "# quick and dirty fix, although I bit silly\n",
    "train_df = X_train\n",
    "train_df['price'] = y_train\n",
    "ols1 = smf.glm(formula=\"price ~ country\", data=train_df, family=sm.families.Gaussian()).fit()\n",
    "print(ols1.summary())"
   ]
  },
  {
   "cell_type": "code",
   "execution_count": 10,
   "metadata": {},
   "outputs": [
    {
     "name": "stderr",
     "output_type": "stream",
     "text": [
      "/usr/local/lib/python3.7/site-packages/statsmodels/genmod/generalized_linear_model.py:1486: FutureWarning: Anscombe residuals currently unscaled. In a future release, they will be scaled.\n",
      "  'release, they will be scaled.', category=FutureWarning)\n"
     ]
    },
    {
     "data": {
      "text/plain": [
       "<matplotlib.collections.PathCollection at 0x1276c5400>"
      ]
     },
     "execution_count": 10,
     "metadata": {},
     "output_type": "execute_result"
    },
    {
     "data": {
      "image/png": "[encoded data removed]",
      "text/plain": [
       "<Figure size 432x288 with 1 Axes>"
      ]
     },
     "metadata": {},
     "output_type": "display_data"
    }
   ],
   "source": [
    "plt.scatter(ols1.model.exog[:,1], ols1.resid_anscombe)"
   ]
  },
  {
   "cell_type": "code",
   "execution_count": null,
   "metadata": {},
   "outputs": [],
   "source": []
  }
 ],
 "metadata": {
  "kernelspec": {
   "display_name": "Python 3",
   "language": "python",
   "name": "python3"
  },
  "language_info": {
   "codemirror_mode": {
    "name": "ipython",
    "version": 3
   },
   "file_extension": ".py",
   "mimetype": "text/x-python",
   "name": "python",
   "nbconvert_exporter": "python",
   "pygments_lexer": "ipython3",
   "version": "3.7.0"
  }
 },
 "nbformat": 4,
 "nbformat_minor": 2
}
