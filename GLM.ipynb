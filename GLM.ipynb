{
 "cells": [
  {
   "cell_type": "code",
   "execution_count": 3,
   "metadata": {},
   "outputs": [],
   "source": [
    "from pathlib import Path\n",
    "\n",
    "path = Path('~/wine_review_analysis')\n",
    "data_path = path/'wine-reviews'"
   ]
  },
  {
   "cell_type": "code",
   "execution_count": 4,
   "metadata": {},
   "outputs": [],
   "source": [
    "import pandas as pd\n",
    "\n",
    "wine_data = pd.read_csv(data_path/'winemag-data-130k-v2.csv')\n",
    "clean_wine_data = wine_data[wine_data['price'].notna()]"
   ]
  },
  {
   "cell_type": "code",
   "execution_count": 5,
   "metadata": {},
   "outputs": [
    {
     "data": {
      "text/html": [
       "<div>\n",
       "<style scoped>\n",
       "    .dataframe tbody tr th:only-of-type {\n",
       "        vertical-align: middle;\n",
       "    }\n",
       "\n",
       "    .dataframe tbody tr th {\n",
       "        vertical-align: top;\n",
       "    }\n",
       "\n",
       "    .dataframe thead th {\n",
       "        text-align: right;\n",
       "    }\n",
       "</style>\n",
       "<table border=\"1\" class=\"dataframe\">\n",
       "  <thead>\n",
       "    <tr style=\"text-align: right;\">\n",
       "      <th></th>\n",
       "      <th>Unnamed: 0</th>\n",
       "      <th>country</th>\n",
       "      <th>description</th>\n",
       "      <th>designation</th>\n",
       "      <th>points</th>\n",
       "      <th>price</th>\n",
       "      <th>province</th>\n",
       "      <th>region_1</th>\n",
       "      <th>region_2</th>\n",
       "      <th>taster_name</th>\n",
       "      <th>taster_twitter_handle</th>\n",
       "      <th>title</th>\n",
       "      <th>variety</th>\n",
       "      <th>winery</th>\n",
       "    </tr>\n",
       "  </thead>\n",
       "  <tbody>\n",
       "    <tr>\n",
       "      <th>1</th>\n",
       "      <td>1</td>\n",
       "      <td>Portugal</td>\n",
       "      <td>This is ripe and fruity, a wine that is smooth...</td>\n",
       "      <td>Avidagos</td>\n",
       "      <td>87</td>\n",
       "      <td>15.0</td>\n",
       "      <td>Douro</td>\n",
       "      <td>NaN</td>\n",
       "      <td>NaN</td>\n",
       "      <td>Roger Voss</td>\n",
       "      <td>@vossroger</td>\n",
       "      <td>Quinta dos Avidagos 2011 Avidagos Red (Douro)</td>\n",
       "      <td>Portuguese Red</td>\n",
       "      <td>Quinta dos Avidagos</td>\n",
       "    </tr>\n",
       "    <tr>\n",
       "      <th>2</th>\n",
       "      <td>2</td>\n",
       "      <td>US</td>\n",
       "      <td>Tart and snappy, the flavors of lime flesh and...</td>\n",
       "      <td>NaN</td>\n",
       "      <td>87</td>\n",
       "      <td>14.0</td>\n",
       "      <td>Oregon</td>\n",
       "      <td>Willamette Valley</td>\n",
       "      <td>Willamette Valley</td>\n",
       "      <td>Paul Gregutt</td>\n",
       "      <td>@paulgwine</td>\n",
       "      <td>Rainstorm 2013 Pinot Gris (Willamette Valley)</td>\n",
       "      <td>Pinot Gris</td>\n",
       "      <td>Rainstorm</td>\n",
       "    </tr>\n",
       "    <tr>\n",
       "      <th>3</th>\n",
       "      <td>3</td>\n",
       "      <td>US</td>\n",
       "      <td>Pineapple rind, lemon pith and orange blossom ...</td>\n",
       "      <td>Reserve Late Harvest</td>\n",
       "      <td>87</td>\n",
       "      <td>13.0</td>\n",
       "      <td>Michigan</td>\n",
       "      <td>Lake Michigan Shore</td>\n",
       "      <td>NaN</td>\n",
       "      <td>Alexander Peartree</td>\n",
       "      <td>NaN</td>\n",
       "      <td>St. Julian 2013 Reserve Late Harvest Riesling ...</td>\n",
       "      <td>Riesling</td>\n",
       "      <td>St. Julian</td>\n",
       "    </tr>\n",
       "    <tr>\n",
       "      <th>4</th>\n",
       "      <td>4</td>\n",
       "      <td>US</td>\n",
       "      <td>Much like the regular bottling from 2012, this...</td>\n",
       "      <td>Vintner's Reserve Wild Child Block</td>\n",
       "      <td>87</td>\n",
       "      <td>65.0</td>\n",
       "      <td>Oregon</td>\n",
       "      <td>Willamette Valley</td>\n",
       "      <td>Willamette Valley</td>\n",
       "      <td>Paul Gregutt</td>\n",
       "      <td>@paulgwine</td>\n",
       "      <td>Sweet Cheeks 2012 Vintner's Reserve Wild Child...</td>\n",
       "      <td>Pinot Noir</td>\n",
       "      <td>Sweet Cheeks</td>\n",
       "    </tr>\n",
       "    <tr>\n",
       "      <th>5</th>\n",
       "      <td>5</td>\n",
       "      <td>Spain</td>\n",
       "      <td>Blackberry and raspberry aromas show a typical...</td>\n",
       "      <td>Ars In Vitro</td>\n",
       "      <td>87</td>\n",
       "      <td>15.0</td>\n",
       "      <td>Northern Spain</td>\n",
       "      <td>Navarra</td>\n",
       "      <td>NaN</td>\n",
       "      <td>Michael Schachner</td>\n",
       "      <td>@wineschach</td>\n",
       "      <td>Tandem 2011 Ars In Vitro Tempranillo-Merlot (N...</td>\n",
       "      <td>Tempranillo-Merlot</td>\n",
       "      <td>Tandem</td>\n",
       "    </tr>\n",
       "  </tbody>\n",
       "</table>\n",
       "</div>"
      ],
      "text/plain": [
       "   Unnamed: 0   country                                        description  \\\n",
       "1           1  Portugal  This is ripe and fruity, a wine that is smooth...   \n",
       "2           2        US  Tart and snappy, the flavors of lime flesh and...   \n",
       "3           3        US  Pineapple rind, lemon pith and orange blossom ...   \n",
       "4           4        US  Much like the regular bottling from 2012, this...   \n",
       "5           5     Spain  Blackberry and raspberry aromas show a typical...   \n",
       "\n",
       "                          designation  points  price        province  \\\n",
       "1                            Avidagos      87   15.0           Douro   \n",
       "2                                 NaN      87   14.0          Oregon   \n",
       "3                Reserve Late Harvest      87   13.0        Michigan   \n",
       "4  Vintner's Reserve Wild Child Block      87   65.0          Oregon   \n",
       "5                        Ars In Vitro      87   15.0  Northern Spain   \n",
       "\n",
       "              region_1           region_2         taster_name  \\\n",
       "1                  NaN                NaN          Roger Voss   \n",
       "2    Willamette Valley  Willamette Valley        Paul Gregutt   \n",
       "3  Lake Michigan Shore                NaN  Alexander Peartree   \n",
       "4    Willamette Valley  Willamette Valley        Paul Gregutt   \n",
       "5              Navarra                NaN   Michael Schachner   \n",
       "\n",
       "  taster_twitter_handle                                              title  \\\n",
       "1            @vossroger      Quinta dos Avidagos 2011 Avidagos Red (Douro)   \n",
       "2           @paulgwine       Rainstorm 2013 Pinot Gris (Willamette Valley)   \n",
       "3                   NaN  St. Julian 2013 Reserve Late Harvest Riesling ...   \n",
       "4           @paulgwine   Sweet Cheeks 2012 Vintner's Reserve Wild Child...   \n",
       "5           @wineschach  Tandem 2011 Ars In Vitro Tempranillo-Merlot (N...   \n",
       "\n",
       "              variety               winery  \n",
       "1      Portuguese Red  Quinta dos Avidagos  \n",
       "2          Pinot Gris            Rainstorm  \n",
       "3            Riesling           St. Julian  \n",
       "4          Pinot Noir         Sweet Cheeks  \n",
       "5  Tempranillo-Merlot               Tandem  "
      ]
     },
     "execution_count": 5,
     "metadata": {},
     "output_type": "execute_result"
    }
   ],
   "source": [
    "clean_wine_data.head()"
   ]
  },
  {
   "cell_type": "markdown",
   "metadata": {},
   "source": [
    "There are probably a lot of interesting work I can do using NLP on the descriptions and titles, but for now I'm going to remove them to just create some quick and easy GLM's."
   ]
  },
  {
   "cell_type": "code",
   "execution_count": 6,
   "metadata": {},
   "outputs": [
    {
     "data": {
      "text/plain": [
       "Index(['Unnamed: 0', 'country', 'description', 'designation', 'points',\n",
       "       'price', 'province', 'region_1', 'region_2', 'taster_name',\n",
       "       'taster_twitter_handle', 'title', 'variety', 'winery'],\n",
       "      dtype='object')"
      ]
     },
     "execution_count": 6,
     "metadata": {},
     "output_type": "execute_result"
    }
   ],
   "source": [
    "clean_wine_data.columns"
   ]
  },
  {
   "cell_type": "code",
   "execution_count": 7,
   "metadata": {},
   "outputs": [
    {
     "data": {
      "text/plain": [
       "Index(['country', 'designation', 'points', 'price', 'province', 'region_1',\n",
       "       'region_2', 'taster_name', 'variety', 'winery'],\n",
       "      dtype='object')"
      ]
     },
     "execution_count": 7,
     "metadata": {},
     "output_type": "execute_result"
    }
   ],
   "source": [
    "test_vars = ['country', 'designation', 'points', 'price', 'province',\n",
    "       'region_1', 'region_2', 'taster_name',\n",
    "       'variety', 'winery']\n",
    "model_data = clean_wine_data[test_vars]\n",
    "model_data.columns"
   ]
  },
  {
   "cell_type": "code",
   "execution_count": 8,
   "metadata": {},
   "outputs": [],
   "source": [
    "X, y = model_data.drop('price', axis=1), model_data['price']"
   ]
  },
  {
   "cell_type": "code",
   "execution_count": 9,
   "metadata": {},
   "outputs": [],
   "source": [
    "import statsmodels.api as sm\n",
    "import statsmodels.formula.api as smf\n",
    "import numpy as np\n",
    "import matplotlib.pyplot as plt\n",
    "\n",
    "from sklearn.model_selection import train_test_split"
   ]
  },
  {
   "cell_type": "code",
   "execution_count": 10,
   "metadata": {},
   "outputs": [],
   "source": [
    "X_train, X_test, y_train, y_test = train_test_split(X, y, test_size=0.2)"
   ]
  },
  {
   "cell_type": "code",
   "execution_count": 11,
   "metadata": {},
   "outputs": [
    {
     "name": "stderr",
     "output_type": "stream",
     "text": [
      "/usr/local/lib/python3.7/site-packages/ipykernel_launcher.py:3: SettingWithCopyWarning: \n",
      "A value is trying to be set on a copy of a slice from a DataFrame.\n",
      "Try using .loc[row_indexer,col_indexer] = value instead\n",
      "\n",
      "See the caveats in the documentation: http://pandas.pydata.org/pandas-docs/stable/indexing.html#indexing-view-versus-copy\n",
      "  This is separate from the ipykernel package so we can avoid doing imports until\n"
     ]
    },
    {
     "name": "stdout",
     "output_type": "stream",
     "text": [
      "                 Generalized Linear Model Regression Results                  \n",
      "==============================================================================\n",
      "Dep. Variable:                  price   No. Observations:                96733\n",
      "Model:                            GLM   Df Residuals:                    96692\n",
      "Model Family:                Gaussian   Df Model:                           40\n",
      "Link Function:               identity   Scale:                          1697.1\n",
      "Method:                          IRLS   Log-Likelihood:            -4.9692e+05\n",
      "Date:                Wed, 03 Apr 2019   Deviance:                   1.6409e+08\n",
      "Time:                        12:19:29   Pearson chi2:                 1.64e+08\n",
      "No. Iterations:                     3   Covariance Type:             nonrobust\n",
      "=====================================================================================================\n",
      "                                        coef    std err          z      P>|z|      [0.025      0.975]\n",
      "-----------------------------------------------------------------------------------------------------\n",
      "Intercept                            24.4366      0.748     32.690      0.000      22.971      25.902\n",
      "country[T.Armenia]                  -10.4366     41.202     -0.253      0.800     -91.191      70.318\n",
      "country[T.Australia]                 11.9320      1.214      9.826      0.000       9.552      14.312\n",
      "country[T.Austria]                    5.7787      1.145      5.048      0.000       3.535       8.023\n",
      "country[T.Bosnia and Herzegovina]   -11.9366     29.139     -0.410      0.682     -69.048      45.175\n",
      "country[T.Brazil]                    -0.9922      6.906     -0.144      0.886     -14.529      12.544\n",
      "country[T.Bulgaria]                  -9.0935      4.147     -2.193      0.028     -17.221      -0.966\n",
      "country[T.Canada]                    11.2383      2.986      3.763      0.000       5.385      17.092\n",
      "country[T.Chile]                     -3.9119      1.019     -3.840      0.000      -5.909      -1.915\n",
      "country[T.Croatia]                    1.4457      5.817      0.249      0.804      -9.955      12.846\n",
      "country[T.Cyprus]                    -8.8652     15.588     -0.569      0.570     -39.418      21.687\n",
      "country[T.Czech Republic]            -0.1866     11.916     -0.016      0.988     -23.541      23.167\n",
      "country[T.England]                   26.5057      5.761      4.601      0.000      15.213      37.798\n",
      "country[T.France]                    16.8758      0.823     20.498      0.000      15.262      18.489\n",
      "country[T.Georgia]                   -5.5929      5.203     -1.075      0.282     -15.791       4.606\n",
      "country[T.Germany]                   17.8595      1.252     14.264      0.000      15.405      20.314\n",
      "country[T.Greece]                    -2.1548      2.291     -0.941      0.347      -6.644       2.335\n",
      "country[T.Hungary]                   17.4967      3.834      4.563      0.000       9.982      25.012\n",
      "country[T.India]                    -11.4366     15.588     -0.734      0.463     -41.989      19.116\n",
      "country[T.Israel]                     7.6356      2.258      3.382      0.001       3.211      12.060\n",
      "country[T.Italy]                     15.2721      0.828     18.455      0.000      13.650      16.894\n",
      "country[T.Lebanon]                    5.7115      7.963      0.717      0.473      -9.896      21.319\n",
      "country[T.Luxembourg]                -0.9366     20.611     -0.045      0.964     -41.334      39.461\n",
      "country[T.Macedonia]                 -8.7366     13.049     -0.670      0.503     -34.311      16.838\n",
      "country[T.Mexico]                     3.9088      5.605      0.697      0.486      -7.076      14.894\n",
      "country[T.Moldova]                   -8.7019      5.932     -1.467      0.142     -20.329       2.925\n",
      "country[T.Morocco]                   -4.4892      9.480     -0.474      0.636     -23.070      14.092\n",
      "country[T.New Zealand]                2.5379      1.451      1.749      0.080      -0.305       5.381\n",
      "country[T.Peru]                      -6.3033     10.663     -0.591      0.554     -27.202      14.596\n",
      "country[T.Portugal]                   1.4844      0.998      1.488      0.137      -0.471       3.440\n",
      "country[T.Romania]                   -8.7871      4.249     -2.068      0.039     -17.115      -0.459\n",
      "country[T.Serbia]                    -0.4366     14.584     -0.030      0.976     -29.021      28.147\n",
      "country[T.Slovakia]                  -8.4366     41.202     -0.205      0.838     -89.191      72.318\n",
      "country[T.Slovenia]                  -0.2366      5.164     -0.046      0.963     -10.358       9.885\n",
      "country[T.South Africa]              -0.2622      1.484     -0.177      0.860      -3.171       2.647\n",
      "country[T.Spain]                      3.4536      0.938      3.680      0.000       1.614       5.293\n",
      "country[T.Switzerland]               70.3967     16.835      4.182      0.000      37.402     103.392\n",
      "country[T.Turkey]                     0.1767      4.815      0.037      0.971      -9.261       9.614\n",
      "country[T.US]                        12.1680      0.773     15.737      0.000      10.653      13.684\n",
      "country[T.Ukraine]                  -15.0199     11.916     -1.261      0.207     -38.374       8.334\n",
      "country[T.Uruguay]                    1.6623      4.383      0.379      0.704      -6.928      10.252\n",
      "=====================================================================================================\n"
     ]
    }
   ],
   "source": [
    "# quick and dirty fix, although I bit silly\n",
    "train_df = X_train\n",
    "train_df['price'] = y_train\n",
    "ols1 = smf.glm(formula=\"price ~ country\", data=train_df, family=sm.families.Gaussian()).fit()\n",
    "print(ols1.summary())"
   ]
  },
  {
   "cell_type": "code",
   "execution_count": 10,
   "metadata": {},
   "outputs": [
    {
     "name": "stderr",
     "output_type": "stream",
     "text": [
      "/usr/local/lib/python3.7/site-packages/statsmodels/genmod/generalized_linear_model.py:1486: FutureWarning: Anscombe residuals currently unscaled. In a future release, they will be scaled.\n",
      "  'release, they will be scaled.', category=FutureWarning)\n"
     ]
    },
    {
     "data": {
      "text/plain": [
       "<matplotlib.collections.PathCollection at 0x1276c5400>"
      ]
     },
     "execution_count": 10,
     "metadata": {},
     "output_type": "execute_result"
    },
    {
     "data": {
      "image/png": "[encoded data removed]",
      "text/plain": [
       "<Figure size 432x288 with 1 Axes>"
      ]
     },
     "metadata": {},
     "output_type": "display_data"
    }
   ],
   "source": [
    "plt.scatter(ols1.model.exog[:,1], ols1.resid_anscombe)"
   ]
  },
  {
   "cell_type": "code",
   "execution_count": 13,
   "metadata": {},
   "outputs": [
    {
     "data": {
      "text/plain": [
       "993927.214464776"
      ]
     },
     "execution_count": 13,
     "metadata": {},
     "output_type": "execute_result"
    }
   ],
   "source": [
    "ols1.aic"
   ]
  },
  {
   "cell_type": "code",
   "execution_count": 15,
   "metadata": {},
   "outputs": [],
   "source": [
    "from sklearn.metrics import mean_squared_error"
   ]
  },
  {
   "cell_type": "code",
   "execution_count": 20,
   "metadata": {},
   "outputs": [],
   "source": [
    "y_pred = ols1.predict(X_test[X_test['country'] != 'China']['country'])"
   ]
  },
  {
   "cell_type": "code",
   "execution_count": 35,
   "metadata": {},
   "outputs": [],
   "source": [
    "y_pred = np.nan_to_num(y_pred)"
   ]
  },
  {
   "cell_type": "code",
   "execution_count": 36,
   "metadata": {},
   "outputs": [
    {
     "data": {
      "text/plain": [
       "1471.9026255024653"
      ]
     },
     "execution_count": 36,
     "metadata": {},
     "output_type": "execute_result"
    }
   ],
   "source": [
    "mean_squared_error(y_test[X_test['country'] != 'China'], y_pred)"
   ]
  },
  {
   "cell_type": "code",
   "execution_count": 29,
   "metadata": {},
   "outputs": [
    {
     "data": {
      "text/plain": [
       "(24194, 24194)"
      ]
     },
     "execution_count": 29,
     "metadata": {},
     "output_type": "execute_result"
    }
   ],
   "source": [
    "len(y_test[X_test['country'] != 'China']), len(y_pred)"
   ]
  },
  {
   "cell_type": "code",
   "execution_count": 31,
   "metadata": {},
   "outputs": [
    {
     "data": {
      "text/plain": [
       "0"
      ]
     },
     "execution_count": 31,
     "metadata": {},
     "output_type": "execute_result"
    }
   ],
   "source": [
    "sum(y_test[X_test['country'] != 'China'].isna())"
   ]
  },
  {
   "cell_type": "code",
   "execution_count": 33,
   "metadata": {},
   "outputs": [
    {
     "data": {
      "text/plain": [
       "12"
      ]
     },
     "execution_count": 33,
     "metadata": {},
     "output_type": "execute_result"
    }
   ],
   "source": [
    "sum(y_pred.isna())"
   ]
  },
  {
   "cell_type": "code",
   "execution_count": 38,
   "metadata": {},
   "outputs": [],
   "source": [
    "y_train_pred = ols1.predict(X_train)"
   ]
  },
  {
   "cell_type": "code",
   "execution_count": 40,
   "metadata": {},
   "outputs": [
    {
     "data": {
      "text/plain": [
       "1695.8377341819216"
      ]
     },
     "execution_count": 40,
     "metadata": {},
     "output_type": "execute_result"
    }
   ],
   "source": [
    "mean_squared_error(y_train, np.nan_to_num(y_train_pred))"
   ]
  },
  {
   "cell_type": "code",
   "execution_count": 41,
   "metadata": {},
   "outputs": [
    {
     "data": {
      "text/plain": [
       "Index(['country', 'designation', 'points', 'province', 'region_1', 'region_2',\n",
       "       'taster_name', 'variety', 'winery', 'price'],\n",
       "      dtype='object')"
      ]
     },
     "execution_count": 41,
     "metadata": {},
     "output_type": "execute_result"
    }
   ],
   "source": [
    "train_df.columns"
   ]
  },
  {
   "cell_type": "code",
   "execution_count": 44,
   "metadata": {},
   "outputs": [
    {
     "name": "stderr",
     "output_type": "stream",
     "text": [
      "/usr/local/lib/python3.7/site-packages/ipykernel_launcher.py:2: SettingWithCopyWarning: \n",
      "A value is trying to be set on a copy of a slice from a DataFrame.\n",
      "Try using .loc[row_indexer,col_indexer] = value instead\n",
      "\n",
      "See the caveats in the documentation: http://pandas.pydata.org/pandas-docs/stable/indexing.html#indexing-view-versus-copy\n",
      "  \n"
     ]
    }
   ],
   "source": [
    "train_df = X_train\n",
    "train_df['price'] = y_train\n",
    "ols2 = smf.glm(formula=\"price ~ country + points\", data=train_df, family=sm.families.Gaussian()).fit(full_output=True)"
   ]
  },
  {
   "cell_type": "code",
   "execution_count": 45,
   "metadata": {},
   "outputs": [
    {
     "data": {
      "text/html": [
       "<table class=\"simpletable\">\n",
       "<caption>Generalized Linear Model Regression Results</caption>\n",
       "<tr>\n",
       "  <th>Dep. Variable:</th>        <td>price</td>      <th>  No. Observations:  </th>   <td> 96733</td>   \n",
       "</tr>\n",
       "<tr>\n",
       "  <th>Model:</th>                 <td>GLM</td>       <th>  Df Residuals:      </th>   <td> 96691</td>   \n",
       "</tr>\n",
       "<tr>\n",
       "  <th>Model Family:</th>       <td>Gaussian</td>     <th>  Df Model:          </th>   <td>    41</td>   \n",
       "</tr>\n",
       "<tr>\n",
       "  <th>Link Function:</th>      <td>identity</td>     <th>  Scale:             </th>  <td>  1423.7</td>  \n",
       "</tr>\n",
       "<tr>\n",
       "  <th>Method:</th>               <td>IRLS</td>       <th>  Log-Likelihood:    </th> <td>-4.8843e+05</td>\n",
       "</tr>\n",
       "<tr>\n",
       "  <th>Date:</th>           <td>Wed, 03 Apr 2019</td> <th>  Deviance:          </th> <td>1.3766e+08</td> \n",
       "</tr>\n",
       "<tr>\n",
       "  <th>Time:</th>               <td>12:38:26</td>     <th>  Pearson chi2:      </th>  <td>1.38e+08</td>  \n",
       "</tr>\n",
       "<tr>\n",
       "  <th>No. Iterations:</th>         <td>3</td>        <th>  Covariance Type:   </th>  <td>nonrobust</td> \n",
       "</tr>\n",
       "</table>\n",
       "<table class=\"simpletable\">\n",
       "<tr>\n",
       "                  <td></td>                     <th>coef</th>     <th>std err</th>      <th>z</th>      <th>P>|z|</th>  <th>[0.025</th>    <th>0.975]</th>  \n",
       "</tr>\n",
       "<tr>\n",
       "  <th>Intercept</th>                         <td> -458.7369</td> <td>    3.612</td> <td> -127.016</td> <td> 0.000</td> <td> -465.816</td> <td> -451.658</td>\n",
       "</tr>\n",
       "<tr>\n",
       "  <th>country[T.Armenia]</th>                <td>  -12.1949</td> <td>   37.738</td> <td>   -0.323</td> <td> 0.747</td> <td>  -86.161</td> <td>   61.771</td>\n",
       "</tr>\n",
       "<tr>\n",
       "  <th>country[T.Australia]</th>              <td>    1.3932</td> <td>    1.115</td> <td>    1.250</td> <td> 0.211</td> <td>   -0.792</td> <td>    3.578</td>\n",
       "</tr>\n",
       "<tr>\n",
       "  <th>country[T.Austria]</th>                <td>  -13.7756</td> <td>    1.058</td> <td>  -13.016</td> <td> 0.000</td> <td>  -15.850</td> <td>  -11.701</td>\n",
       "</tr>\n",
       "<tr>\n",
       "  <th>country[T.Bosnia and Herzegovina]</th> <td>  -10.9079</td> <td>   26.690</td> <td>   -0.409</td> <td> 0.683</td> <td>  -63.218</td> <td>   41.403</td>\n",
       "</tr>\n",
       "<tr>\n",
       "  <th>country[T.Brazil]</th>                 <td>   10.8747</td> <td>    6.326</td> <td>    1.719</td> <td> 0.086</td> <td>   -1.525</td> <td>   23.274</td>\n",
       "</tr>\n",
       "<tr>\n",
       "  <th>country[T.Bulgaria]</th>               <td>  -16.9721</td> <td>    3.799</td> <td>   -4.468</td> <td> 0.000</td> <td>  -24.417</td> <td>   -9.527</td>\n",
       "</tr>\n",
       "<tr>\n",
       "  <th>country[T.Canada]</th>                 <td>   -3.3428</td> <td>    2.737</td> <td>   -1.221</td> <td> 0.222</td> <td>   -8.708</td> <td>    2.023</td>\n",
       "</tr>\n",
       "<tr>\n",
       "  <th>country[T.Chile]</th>                  <td>   -2.8258</td> <td>    0.933</td> <td>   -3.028</td> <td> 0.002</td> <td>   -4.655</td> <td>   -0.997</td>\n",
       "</tr>\n",
       "<tr>\n",
       "  <th>country[T.Croatia]</th>                <td>   -0.2032</td> <td>    5.328</td> <td>   -0.038</td> <td> 0.970</td> <td>  -10.645</td> <td>   10.239</td>\n",
       "</tr>\n",
       "<tr>\n",
       "  <th>country[T.Cyprus]</th>                 <td>  -12.2160</td> <td>   14.278</td> <td>   -0.856</td> <td> 0.392</td> <td>  -40.200</td> <td>   15.768</td>\n",
       "</tr>\n",
       "<tr>\n",
       "  <th>country[T.Czech Republic]</th>         <td>   -3.3384</td> <td>   10.914</td> <td>   -0.306</td> <td> 0.760</td> <td>  -24.729</td> <td>   18.052</td>\n",
       "</tr>\n",
       "<tr>\n",
       "  <th>country[T.England]</th>                <td>    0.5223</td> <td>    5.281</td> <td>    0.099</td> <td> 0.921</td> <td>   -9.827</td> <td>   10.872</td>\n",
       "</tr>\n",
       "<tr>\n",
       "  <th>country[T.France]</th>                 <td>    5.4075</td> <td>    0.759</td> <td>    7.127</td> <td> 0.000</td> <td>    3.920</td> <td>    6.895</td>\n",
       "</tr>\n",
       "<tr>\n",
       "  <th>country[T.Georgia]</th>                <td>  -10.5735</td> <td>    4.766</td> <td>   -2.218</td> <td> 0.027</td> <td>  -19.915</td> <td>   -1.232</td>\n",
       "</tr>\n",
       "<tr>\n",
       "  <th>country[T.Germany]</th>                <td>    0.2576</td> <td>    1.154</td> <td>    0.223</td> <td> 0.823</td> <td>   -2.004</td> <td>    2.520</td>\n",
       "</tr>\n",
       "<tr>\n",
       "  <th>country[T.Greece]</th>                 <td>   -4.8062</td> <td>    2.098</td> <td>   -2.291</td> <td> 0.022</td> <td>   -8.918</td> <td>   -0.694</td>\n",
       "</tr>\n",
       "<tr>\n",
       "  <th>country[T.Hungary]</th>                <td>    3.7545</td> <td>    3.513</td> <td>    1.069</td> <td> 0.285</td> <td>   -3.131</td> <td>   10.640</td>\n",
       "</tr>\n",
       "<tr>\n",
       "  <th>country[T.India]</th>                  <td>  -29.9167</td> <td>   14.279</td> <td>   -2.095</td> <td> 0.036</td> <td>  -57.902</td> <td>   -1.931</td>\n",
       "</tr>\n",
       "<tr>\n",
       "  <th>country[T.Israel]</th>                 <td>   -2.5581</td> <td>    2.069</td> <td>   -1.236</td> <td> 0.216</td> <td>   -6.613</td> <td>    1.497</td>\n",
       "</tr>\n",
       "<tr>\n",
       "  <th>country[T.Italy]</th>                  <td>    4.4393</td> <td>    0.762</td> <td>    5.825</td> <td> 0.000</td> <td>    2.946</td> <td>    5.933</td>\n",
       "</tr>\n",
       "<tr>\n",
       "  <th>country[T.Lebanon]</th>                <td>    1.6824</td> <td>    7.294</td> <td>    0.231</td> <td> 0.818</td> <td>  -12.613</td> <td>   15.978</td>\n",
       "</tr>\n",
       "<tr>\n",
       "  <th>country[T.Luxembourg]</th>             <td>  -12.4492</td> <td>   18.879</td> <td>   -0.659</td> <td> 0.510</td> <td>  -49.451</td> <td>   24.552</td>\n",
       "</tr>\n",
       "<tr>\n",
       "  <th>country[T.Macedonia]</th>              <td>  -11.0523</td> <td>   11.952</td> <td>   -0.925</td> <td> 0.355</td> <td>  -34.477</td> <td>   12.372</td>\n",
       "</tr>\n",
       "<tr>\n",
       "  <th>country[T.Mexico]</th>                 <td>   10.8662</td> <td>    5.134</td> <td>    2.117</td> <td> 0.034</td> <td>    0.804</td> <td>   20.929</td>\n",
       "</tr>\n",
       "<tr>\n",
       "  <th>country[T.Moldova]</th>                <td>  -10.9152</td> <td>    5.434</td> <td>   -2.009</td> <td> 0.045</td> <td>  -21.565</td> <td>   -0.265</td>\n",
       "</tr>\n",
       "<tr>\n",
       "  <th>country[T.Morocco]</th>                <td>  -13.8750</td> <td>    8.684</td> <td>   -1.598</td> <td> 0.110</td> <td>  -30.895</td> <td>    3.145</td>\n",
       "</tr>\n",
       "<tr>\n",
       "  <th>country[T.New Zealand]</th>            <td>   -6.6777</td> <td>    1.330</td> <td>   -5.019</td> <td> 0.000</td> <td>   -9.285</td> <td>   -4.070</td>\n",
       "</tr>\n",
       "<tr>\n",
       "  <th>country[T.Peru]</th>                   <td>   12.0046</td> <td>    9.767</td> <td>    1.229</td> <td> 0.219</td> <td>   -7.139</td> <td>   31.148</td>\n",
       "</tr>\n",
       "<tr>\n",
       "  <th>country[T.Portugal]</th>               <td>   -7.5103</td> <td>    0.916</td> <td>   -8.198</td> <td> 0.000</td> <td>   -9.306</td> <td>   -5.715</td>\n",
       "</tr>\n",
       "<tr>\n",
       "  <th>country[T.Romania]</th>                <td>   -6.3506</td> <td>    3.892</td> <td>   -1.632</td> <td> 0.103</td> <td>  -13.979</td> <td>    1.277</td>\n",
       "</tr>\n",
       "<tr>\n",
       "  <th>country[T.Serbia]</th>                 <td>   -4.2851</td> <td>   13.358</td> <td>   -0.321</td> <td> 0.748</td> <td>  -30.466</td> <td>   21.896</td>\n",
       "</tr>\n",
       "<tr>\n",
       "  <th>country[T.Slovakia]</th>               <td>  -10.1949</td> <td>   37.738</td> <td>   -0.270</td> <td> 0.787</td> <td>  -84.161</td> <td>   63.771</td>\n",
       "</tr>\n",
       "<tr>\n",
       "  <th>country[T.Slovenia]</th>               <td>   -7.9118</td> <td>    4.730</td> <td>   -1.673</td> <td> 0.094</td> <td>  -17.183</td> <td>    1.359</td>\n",
       "</tr>\n",
       "<tr>\n",
       "  <th>country[T.South Africa]</th>           <td>   -6.3737</td> <td>    1.360</td> <td>   -4.686</td> <td> 0.000</td> <td>   -9.040</td> <td>   -3.708</td>\n",
       "</tr>\n",
       "<tr>\n",
       "  <th>country[T.Spain]</th>                  <td>    0.2171</td> <td>    0.860</td> <td>    0.252</td> <td> 0.801</td> <td>   -1.468</td> <td>    1.902</td>\n",
       "</tr>\n",
       "<tr>\n",
       "  <th>country[T.Switzerland]</th>            <td>   61.2066</td> <td>   15.419</td> <td>    3.969</td> <td> 0.000</td> <td>   30.985</td> <td>   91.428</td>\n",
       "</tr>\n",
       "<tr>\n",
       "  <th>country[T.Turkey]</th>                 <td>   -8.5675</td> <td>    4.411</td> <td>   -1.942</td> <td> 0.052</td> <td>  -17.213</td> <td>    0.078</td>\n",
       "</tr>\n",
       "<tr>\n",
       "  <th>country[T.US]</th>                     <td>    1.6707</td> <td>    0.712</td> <td>    2.345</td> <td> 0.019</td> <td>    0.274</td> <td>    3.067</td>\n",
       "</tr>\n",
       "<tr>\n",
       "  <th>country[T.Ukraine]</th>                <td>   -0.9854</td> <td>   10.914</td> <td>   -0.090</td> <td> 0.928</td> <td>  -22.377</td> <td>   20.406</td>\n",
       "</tr>\n",
       "<tr>\n",
       "  <th>country[T.Uruguay]</th>                <td>    0.9453</td> <td>    4.014</td> <td>    0.235</td> <td> 0.814</td> <td>   -6.922</td> <td>    8.813</td>\n",
       "</tr>\n",
       "<tr>\n",
       "  <th>points</th>                            <td>    5.5739</td> <td>    0.041</td> <td>  136.253</td> <td> 0.000</td> <td>    5.494</td> <td>    5.654</td>\n",
       "</tr>\n",
       "</table>"
      ],
      "text/plain": [
       "<class 'statsmodels.iolib.summary.Summary'>\n",
       "\"\"\"\n",
       "                 Generalized Linear Model Regression Results                  \n",
       "==============================================================================\n",
       "Dep. Variable:                  price   No. Observations:                96733\n",
       "Model:                            GLM   Df Residuals:                    96691\n",
       "Model Family:                Gaussian   Df Model:                           41\n",
       "Link Function:               identity   Scale:                          1423.7\n",
       "Method:                          IRLS   Log-Likelihood:            -4.8843e+05\n",
       "Date:                Wed, 03 Apr 2019   Deviance:                   1.3766e+08\n",
       "Time:                        12:38:26   Pearson chi2:                 1.38e+08\n",
       "No. Iterations:                     3   Covariance Type:             nonrobust\n",
       "=====================================================================================================\n",
       "                                        coef    std err          z      P>|z|      [0.025      0.975]\n",
       "-----------------------------------------------------------------------------------------------------\n",
       "Intercept                          -458.7369      3.612   -127.016      0.000    -465.816    -451.658\n",
       "country[T.Armenia]                  -12.1949     37.738     -0.323      0.747     -86.161      61.771\n",
       "country[T.Australia]                  1.3932      1.115      1.250      0.211      -0.792       3.578\n",
       "country[T.Austria]                  -13.7756      1.058    -13.016      0.000     -15.850     -11.701\n",
       "country[T.Bosnia and Herzegovina]   -10.9079     26.690     -0.409      0.683     -63.218      41.403\n",
       "country[T.Brazil]                    10.8747      6.326      1.719      0.086      -1.525      23.274\n",
       "country[T.Bulgaria]                 -16.9721      3.799     -4.468      0.000     -24.417      -9.527\n",
       "country[T.Canada]                    -3.3428      2.737     -1.221      0.222      -8.708       2.023\n",
       "country[T.Chile]                     -2.8258      0.933     -3.028      0.002      -4.655      -0.997\n",
       "country[T.Croatia]                   -0.2032      5.328     -0.038      0.970     -10.645      10.239\n",
       "country[T.Cyprus]                   -12.2160     14.278     -0.856      0.392     -40.200      15.768\n",
       "country[T.Czech Republic]            -3.3384     10.914     -0.306      0.760     -24.729      18.052\n",
       "country[T.England]                    0.5223      5.281      0.099      0.921      -9.827      10.872\n",
       "country[T.France]                     5.4075      0.759      7.127      0.000       3.920       6.895\n",
       "country[T.Georgia]                  -10.5735      4.766     -2.218      0.027     -19.915      -1.232\n",
       "country[T.Germany]                    0.2576      1.154      0.223      0.823      -2.004       2.520\n",
       "country[T.Greece]                    -4.8062      2.098     -2.291      0.022      -8.918      -0.694\n",
       "country[T.Hungary]                    3.7545      3.513      1.069      0.285      -3.131      10.640\n",
       "country[T.India]                    -29.9167     14.279     -2.095      0.036     -57.902      -1.931\n",
       "country[T.Israel]                    -2.5581      2.069     -1.236      0.216      -6.613       1.497\n",
       "country[T.Italy]                      4.4393      0.762      5.825      0.000       2.946       5.933\n",
       "country[T.Lebanon]                    1.6824      7.294      0.231      0.818     -12.613      15.978\n",
       "country[T.Luxembourg]               -12.4492     18.879     -0.659      0.510     -49.451      24.552\n",
       "country[T.Macedonia]                -11.0523     11.952     -0.925      0.355     -34.477      12.372\n",
       "country[T.Mexico]                    10.8662      5.134      2.117      0.034       0.804      20.929\n",
       "country[T.Moldova]                  -10.9152      5.434     -2.009      0.045     -21.565      -0.265\n",
       "country[T.Morocco]                  -13.8750      8.684     -1.598      0.110     -30.895       3.145\n",
       "country[T.New Zealand]               -6.6777      1.330     -5.019      0.000      -9.285      -4.070\n",
       "country[T.Peru]                      12.0046      9.767      1.229      0.219      -7.139      31.148\n",
       "country[T.Portugal]                  -7.5103      0.916     -8.198      0.000      -9.306      -5.715\n",
       "country[T.Romania]                   -6.3506      3.892     -1.632      0.103     -13.979       1.277\n",
       "country[T.Serbia]                    -4.2851     13.358     -0.321      0.748     -30.466      21.896\n",
       "country[T.Slovakia]                 -10.1949     37.738     -0.270      0.787     -84.161      63.771\n",
       "country[T.Slovenia]                  -7.9118      4.730     -1.673      0.094     -17.183       1.359\n",
       "country[T.South Africa]              -6.3737      1.360     -4.686      0.000      -9.040      -3.708\n",
       "country[T.Spain]                      0.2171      0.860      0.252      0.801      -1.468       1.902\n",
       "country[T.Switzerland]               61.2066     15.419      3.969      0.000      30.985      91.428\n",
       "country[T.Turkey]                    -8.5675      4.411     -1.942      0.052     -17.213       0.078\n",
       "country[T.US]                         1.6707      0.712      2.345      0.019       0.274       3.067\n",
       "country[T.Ukraine]                   -0.9854     10.914     -0.090      0.928     -22.377      20.406\n",
       "country[T.Uruguay]                    0.9453      4.014      0.235      0.814      -6.922       8.813\n",
       "points                                5.5739      0.041    136.253      0.000       5.494       5.654\n",
       "=====================================================================================================\n",
       "\"\"\""
      ]
     },
     "execution_count": 45,
     "metadata": {},
     "output_type": "execute_result"
    }
   ],
   "source": [
    "ols2.summary()"
   ]
  },
  {
   "cell_type": "code",
   "execution_count": 47,
   "metadata": {},
   "outputs": [],
   "source": [
    "y_pred = ols2.predict(X_test[X_test['country']!='China'])"
   ]
  },
  {
   "cell_type": "code",
   "execution_count": 50,
   "metadata": {},
   "outputs": [
    {
     "data": {
      "text/plain": [
       "1191.894867806802"
      ]
     },
     "execution_count": 50,
     "metadata": {},
     "output_type": "execute_result"
    }
   ],
   "source": [
    "mean_squared_error(y_test[X_test['country']!='China'], np.nan_to_num(y_pred))"
   ]
  },
  {
   "cell_type": "code",
   "execution_count": null,
   "metadata": {},
   "outputs": [],
   "source": []
  }
 ],
 "metadata": {
  "kernelspec": {
   "display_name": "Python 3",
   "language": "python",
   "name": "python3"
  },
  "language_info": {
   "codemirror_mode": {
    "name": "ipython",
    "version": 3
   },
   "file_extension": ".py",
   "mimetype": "text/x-python",
   "name": "python",
   "nbconvert_exporter": "python",
   "pygments_lexer": "ipython3",
   "version": "3.7.0"
  }
 },
 "nbformat": 4,
 "nbformat_minor": 2
}
