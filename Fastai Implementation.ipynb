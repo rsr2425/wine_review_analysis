{
 "cells": [
  {
   "cell_type": "markdown",
   "metadata": {},
   "source": [
    "# Checkpoint\n",
    "Run these cells to restore previous state."
   ]
  },
  {
   "cell_type": "code",
   "execution_count": 11,
   "metadata": {},
   "outputs": [],
   "source": [
    "%reload_ext autoreload\n",
    "%autoreload 2\n",
    "%matplotlib inline"
   ]
  },
  {
   "cell_type": "code",
   "execution_count": 13,
   "metadata": {},
   "outputs": [],
   "source": [
    "from fastai import *\n",
    "from fastai.tabular import *"
   ]
  },
  {
   "cell_type": "code",
   "execution_count": 14,
   "metadata": {},
   "outputs": [],
   "source": [
    "from pathlib import Path\n",
    "\n",
    "path = Path('~/data_work/wine_review_analysis')"
   ]
  },
  {
   "cell_type": "code",
   "execution_count": 15,
   "metadata": {},
   "outputs": [],
   "source": [
    "data_path = path/'wine-reviews'\n",
    "\n",
    "wine_data = pd.read_csv(data_path/'winemag-data-130k-v2.csv')"
   ]
  },
  {
   "cell_type": "code",
   "execution_count": 16,
   "metadata": {},
   "outputs": [],
   "source": [
    "clean_wine_data = wine_data[wine_data['price'].notna()]"
   ]
  },
  {
   "cell_type": "code",
   "execution_count": 17,
   "metadata": {},
   "outputs": [],
   "source": [
    "procs = [FillMissing, Categorify, Normalize]"
   ]
  },
  {
   "cell_type": "code",
   "execution_count": 18,
   "metadata": {},
   "outputs": [],
   "source": [
    "valid_idx = range(len(clean_wine_data)-int(len(clean_wine_data)*.2), len(clean_wine_data))\n",
    "\n"
   ]
  },
  {
   "cell_type": "code",
   "execution_count": 19,
   "metadata": {},
   "outputs": [
    {
     "data": {
      "text/plain": [
       "Index(['Unnamed: 0', 'country', 'description', 'designation', 'points',\n",
       "       'price', 'province', 'region_1', 'region_2', 'taster_name',\n",
       "       'taster_twitter_handle', 'title', 'variety', 'winery'],\n",
       "      dtype='object')"
      ]
     },
     "execution_count": 19,
     "metadata": {},
     "output_type": "execute_result"
    }
   ],
   "source": [
    "clean_wine_data.columns"
   ]
  },
  {
   "cell_type": "code",
   "execution_count": 20,
   "metadata": {},
   "outputs": [
    {
     "data": {
      "text/plain": [
       "Index(['country', 'designation', 'points', 'price', 'province', 'region_1',\n",
       "       'region_2', 'taster_name', 'variety', 'winery'],\n",
       "      dtype='object')"
      ]
     },
     "execution_count": 20,
     "metadata": {},
     "output_type": "execute_result"
    }
   ],
   "source": [
    "test_vars = ['country', 'designation', 'points', 'price', 'province',\n",
    "       'region_1', 'region_2', 'taster_name',\n",
    "       'variety', 'winery']\n",
    "model_data = clean_wine_data[test_vars]\n",
    "model_data.columns"
   ]
  },
  {
   "cell_type": "code",
   "execution_count": 21,
   "metadata": {},
   "outputs": [],
   "source": [
    "dep_var = 'price'\n",
    "cat_names = ['country', 'designation', 'province', 'region_1', 'region_2', 'variety', 'taster_name', 'winery']\n",
    "\n"
   ]
  },
  {
   "cell_type": "code",
   "execution_count": 35,
   "metadata": {},
   "outputs": [],
   "source": [
    "data = TabularDataBunch.from_df(path, model_data, dep_var\n",
    "                                , valid_idx=valid_idx, procs=procs, cat_names=cat_names\n",
    "                                , bs = 1000)\n",
    "\n",
    "\n"
   ]
  },
  {
   "cell_type": "code",
   "execution_count": 23,
   "metadata": {},
   "outputs": [],
   "source": [
    "from fastai.metrics import mean_squared_error"
   ]
  },
  {
   "cell_type": "code",
   "execution_count": 36,
   "metadata": {},
   "outputs": [],
   "source": [
    "learn = tabular_learner(data, layers=[200,100], metrics=mean_squared_error)\n",
    "\n"
   ]
  },
  {
   "cell_type": "code",
   "execution_count": 27,
   "metadata": {},
   "outputs": [],
   "source": [
    "data.batch_size??"
   ]
  },
  {
   "cell_type": "code",
   "execution_count": 32,
   "metadata": {},
   "outputs": [
    {
     "data": {
      "text/plain": [
       "200"
      ]
     },
     "execution_count": 32,
     "metadata": {},
     "output_type": "execute_result"
    }
   ],
   "source": [
    "data.train_dl.batch_size"
   ]
  },
  {
   "cell_type": "code",
   "execution_count": 37,
   "metadata": {},
   "outputs": [
    {
     "data": {
      "text/html": [],
      "text/plain": [
       "<IPython.core.display.HTML object>"
      ]
     },
     "metadata": {},
     "output_type": "display_data"
    },
    {
     "name": "stdout",
     "output_type": "stream",
     "text": [
      "LR Finder is complete, type {learner_name}.recorder.plot() to see the graph.\n"
     ]
    }
   ],
   "source": [
    "learn.lr_find()"
   ]
  },
  {
   "cell_type": "code",
   "execution_count": 38,
   "metadata": {},
   "outputs": [
    {
     "name": "stdout",
     "output_type": "stream",
     "text": [
      "Min numerical gradient: 6.31E-07\n"
     ]
    },
    {
     "data": {
      "image/png": "[encoded data removed]",
      "text/plain": [
       "<Figure size 432x288 with 1 Axes>"
      ]
     },
     "metadata": {
      "needs_background": "light"
     },
     "output_type": "display_data"
    }
   ],
   "source": [
    "learn.recorder.plot()"
   ]
  },
  {
   "cell_type": "code",
   "execution_count": 42,
   "metadata": {},
   "outputs": [
    {
     "data": {
      "text/html": [
       "Total time: 01:16 <p><table style='width:300px; margin-bottom:10px'>\n",
       "  <tr>\n",
       "    <th>epoch</th>\n",
       "    <th>train_loss</th>\n",
       "    <th>valid_loss</th>\n",
       "    <th>mean_squared_error</th>\n",
       "  </tr>\n",
       "  <tr>\n",
       "    <th>1</th>\n",
       "    <th>2846.940186</th>\n",
       "    <th>3064.652100</th>\n",
       "    <th>3064.652100</th>\n",
       "  </tr>\n",
       "  <tr>\n",
       "    <th>2</th>\n",
       "    <th>2742.153320</th>\n",
       "    <th>3060.894531</th>\n",
       "    <th>3060.894287</th>\n",
       "  </tr>\n",
       "  <tr>\n",
       "    <th>3</th>\n",
       "    <th>2791.140869</th>\n",
       "    <th>3052.318604</th>\n",
       "    <th>3052.318604</th>\n",
       "  </tr>\n",
       "  <tr>\n",
       "    <th>4</th>\n",
       "    <th>2850.196777</th>\n",
       "    <th>3040.751953</th>\n",
       "    <th>3040.751465</th>\n",
       "  </tr>\n",
       "  <tr>\n",
       "    <th>5</th>\n",
       "    <th>2822.732178</th>\n",
       "    <th>3026.093994</th>\n",
       "    <th>3026.093750</th>\n",
       "  </tr>\n",
       "  <tr>\n",
       "    <th>6</th>\n",
       "    <th>2835.636719</th>\n",
       "    <th>3014.980957</th>\n",
       "    <th>3014.981201</th>\n",
       "  </tr>\n",
       "  <tr>\n",
       "    <th>7</th>\n",
       "    <th>2919.951904</th>\n",
       "    <th>2999.121094</th>\n",
       "    <th>2999.121094</th>\n",
       "  </tr>\n",
       "  <tr>\n",
       "    <th>8</th>\n",
       "    <th>2721.116211</th>\n",
       "    <th>2992.788818</th>\n",
       "    <th>2992.788330</th>\n",
       "  </tr>\n",
       "  <tr>\n",
       "    <th>9</th>\n",
       "    <th>2796.652344</th>\n",
       "    <th>2982.403076</th>\n",
       "    <th>2982.403076</th>\n",
       "  </tr>\n",
       "  <tr>\n",
       "    <th>10</th>\n",
       "    <th>2740.914307</th>\n",
       "    <th>2971.276123</th>\n",
       "    <th>2971.276123</th>\n",
       "  </tr>\n",
       "  <tr>\n",
       "    <th>11</th>\n",
       "    <th>2613.244873</th>\n",
       "    <th>2963.957764</th>\n",
       "    <th>2963.958252</th>\n",
       "  </tr>\n",
       "  <tr>\n",
       "    <th>12</th>\n",
       "    <th>2824.940186</th>\n",
       "    <th>2960.232666</th>\n",
       "    <th>2960.232666</th>\n",
       "  </tr>\n",
       "  <tr>\n",
       "    <th>13</th>\n",
       "    <th>2853.596924</th>\n",
       "    <th>2960.336182</th>\n",
       "    <th>2960.336670</th>\n",
       "  </tr>\n",
       "  <tr>\n",
       "    <th>14</th>\n",
       "    <th>2695.300049</th>\n",
       "    <th>2949.530518</th>\n",
       "    <th>2949.530518</th>\n",
       "  </tr>\n",
       "  <tr>\n",
       "    <th>15</th>\n",
       "    <th>2791.185059</th>\n",
       "    <th>2942.285645</th>\n",
       "    <th>2942.285889</th>\n",
       "  </tr>\n",
       "  <tr>\n",
       "    <th>16</th>\n",
       "    <th>2831.955566</th>\n",
       "    <th>2951.034912</th>\n",
       "    <th>2951.034912</th>\n",
       "  </tr>\n",
       "  <tr>\n",
       "    <th>17</th>\n",
       "    <th>2682.610107</th>\n",
       "    <th>2944.833008</th>\n",
       "    <th>2944.833008</th>\n",
       "  </tr>\n",
       "  <tr>\n",
       "    <th>18</th>\n",
       "    <th>2839.822510</th>\n",
       "    <th>2946.942871</th>\n",
       "    <th>2946.943115</th>\n",
       "  </tr>\n",
       "  <tr>\n",
       "    <th>19</th>\n",
       "    <th>2624.878906</th>\n",
       "    <th>2948.249512</th>\n",
       "    <th>2948.249756</th>\n",
       "  </tr>\n",
       "  <tr>\n",
       "    <th>20</th>\n",
       "    <th>2699.856689</th>\n",
       "    <th>2949.651855</th>\n",
       "    <th>2949.651367</th>\n",
       "  </tr>\n",
       "</table>\n"
      ],
      "text/plain": [
       "<IPython.core.display.HTML object>"
      ]
     },
     "metadata": {},
     "output_type": "display_data"
    }
   ],
   "source": [
    "learn.fit_one_cycle(20, 1e-5)"
   ]
  },
  {
   "cell_type": "code",
   "execution_count": 1,
   "metadata": {},
   "outputs": [],
   "source": [
    "import fastai"
   ]
  },
  {
   "cell_type": "code",
   "execution_count": 2,
   "metadata": {},
   "outputs": [
    {
     "data": {
      "text/plain": [
       "'1.0.45'"
      ]
     },
     "execution_count": 2,
     "metadata": {},
     "output_type": "execute_result"
    }
   ],
   "source": [
    "fastai.__version__"
   ]
  },
  {
   "cell_type": "code",
   "execution_count": 6,
   "metadata": {},
   "outputs": [],
   "source": [
    "from fastai import *"
   ]
  },
  {
   "cell_type": "code",
   "execution_count": 7,
   "metadata": {},
   "outputs": [
    {
     "data": {
      "text/plain": [
       "['__builtins__',\n",
       " '__cached__',\n",
       " '__doc__',\n",
       " '__file__',\n",
       " '__loader__',\n",
       " '__name__',\n",
       " '__package__',\n",
       " '__path__',\n",
       " '__spec__',\n",
       " '__version__',\n",
       " 'version']"
      ]
     },
     "execution_count": 7,
     "metadata": {},
     "output_type": "execute_result"
    }
   ],
   "source": [
    "dir(fastai)"
   ]
  },
  {
   "cell_type": "code",
   "execution_count": 9,
   "metadata": {},
   "outputs": [
    {
     "data": {
      "text/plain": [
       "['error_rate',\n",
       " 'accuracy',\n",
       " 'accuracy_thresh',\n",
       " 'dice',\n",
       " 'exp_rmspe',\n",
       " 'fbeta',\n",
       " 'FBeta',\n",
       " 'mse',\n",
       " 'mean_squared_error',\n",
       " 'mae',\n",
       " 'mean_absolute_error',\n",
       " 'rmse',\n",
       " 'root_mean_squared_error',\n",
       " 'msle',\n",
       " 'mean_squared_logarithmic_error',\n",
       " 'explained_variance',\n",
       " 'r2_score',\n",
       " 'top_k_accuracy',\n",
       " 'KappaScore',\n",
       " 'ConfusionMatrix',\n",
       " 'MatthewsCorreff',\n",
       " 'Precision',\n",
       " 'Recall',\n",
       " 'R2Score',\n",
       " 'ExplainedVariance',\n",
       " 'ExpRMSPE',\n",
       " 'RMSE']"
      ]
     },
     "execution_count": 9,
     "metadata": {},
     "output_type": "execute_result"
    }
   ],
   "source": [
    "fastai.metrics.__all__"
   ]
  },
  {
   "cell_type": "code",
   "execution_count": 43,
   "metadata": {},
   "outputs": [],
   "source": [
    "dep_var = 'price'\n",
    "cat_names = ['country', 'points', 'designation', 'province', 'region_1', 'region_2', 'variety', 'taster_name', 'winery']\n",
    "\n",
    "\n",
    "\n",
    "data2 = TabularDataBunch.from_df(path, model_data, dep_var\n",
    "                                , valid_idx=valid_idx, procs=procs, cat_names=cat_names\n",
    "                                , bs = 1000)"
   ]
  },
  {
   "cell_type": "code",
   "execution_count": 44,
   "metadata": {},
   "outputs": [
    {
     "data": {
      "text/html": [],
      "text/plain": [
       "<IPython.core.display.HTML object>"
      ]
     },
     "metadata": {},
     "output_type": "display_data"
    },
    {
     "name": "stdout",
     "output_type": "stream",
     "text": [
      "LR Finder is complete, type {learner_name}.recorder.plot() to see the graph.\n"
     ]
    }
   ],
   "source": [
    "learn.lr_find()"
   ]
  },
  {
   "cell_type": "code",
   "execution_count": 45,
   "metadata": {},
   "outputs": [
    {
     "name": "stdout",
     "output_type": "stream",
     "text": [
      "Min numerical gradient: 5.75E-02\n"
     ]
    },
    {
     "data": {
      "image/png": "[encoded data removed]",
      "text/plain": [
       "<Figure size 432x288 with 1 Axes>"
      ]
     },
     "metadata": {
      "needs_background": "light"
     },
     "output_type": "display_data"
    }
   ],
   "source": [
    "learn.recorder.plot()"
   ]
  },
  {
   "cell_type": "code",
   "execution_count": 47,
   "metadata": {},
   "outputs": [],
   "source": [
    "learn = tabular_learner(data, layers=[200,100], metrics=mean_squared_error)"
   ]
  },
  {
   "cell_type": "code",
   "execution_count": 48,
   "metadata": {},
   "outputs": [
    {
     "data": {
      "text/html": [
       "Total time: 00:41 <p><table style='width:300px; margin-bottom:10px'>\n",
       "  <tr>\n",
       "    <th>epoch</th>\n",
       "    <th>train_loss</th>\n",
       "    <th>valid_loss</th>\n",
       "    <th>mean_squared_error</th>\n",
       "  </tr>\n",
       "  <tr>\n",
       "    <th>1</th>\n",
       "    <th>1601.876343</th>\n",
       "    <th>1511.981445</th>\n",
       "    <th>1511.981445</th>\n",
       "  </tr>\n",
       "  <tr>\n",
       "    <th>2</th>\n",
       "    <th>905.712219</th>\n",
       "    <th>1101.032959</th>\n",
       "    <th>1101.033203</th>\n",
       "  </tr>\n",
       "  <tr>\n",
       "    <th>3</th>\n",
       "    <th>601.195251</th>\n",
       "    <th>909.891541</th>\n",
       "    <th>909.891602</th>\n",
       "  </tr>\n",
       "  <tr>\n",
       "    <th>4</th>\n",
       "    <th>700.907288</th>\n",
       "    <th>939.987122</th>\n",
       "    <th>939.987000</th>\n",
       "  </tr>\n",
       "  <tr>\n",
       "    <th>5</th>\n",
       "    <th>558.698120</th>\n",
       "    <th>865.369446</th>\n",
       "    <th>865.369385</th>\n",
       "  </tr>\n",
       "  <tr>\n",
       "    <th>6</th>\n",
       "    <th>405.082458</th>\n",
       "    <th>885.928162</th>\n",
       "    <th>885.928162</th>\n",
       "  </tr>\n",
       "  <tr>\n",
       "    <th>7</th>\n",
       "    <th>437.843475</th>\n",
       "    <th>1031.147217</th>\n",
       "    <th>1031.147217</th>\n",
       "  </tr>\n",
       "  <tr>\n",
       "    <th>8</th>\n",
       "    <th>316.205078</th>\n",
       "    <th>1291.309570</th>\n",
       "    <th>1291.309570</th>\n",
       "  </tr>\n",
       "  <tr>\n",
       "    <th>9</th>\n",
       "    <th>274.664368</th>\n",
       "    <th>679.600464</th>\n",
       "    <th>679.600464</th>\n",
       "  </tr>\n",
       "</table>\n"
      ],
      "text/plain": [
       "<IPython.core.display.HTML object>"
      ]
     },
     "metadata": {},
     "output_type": "display_data"
    }
   ],
   "source": [
    "learn.fit_one_cycle(9, 5e-2)"
   ]
  },
  {
   "cell_type": "code",
   "execution_count": 49,
   "metadata": {},
   "outputs": [],
   "source": [
    "learn.save('best')"
   ]
  },
  {
   "cell_type": "code",
   "execution_count": 50,
   "metadata": {},
   "outputs": [],
   "source": [
    "lean_learn = tabular_learner(data, layers=[100,100], metrics=mean_squared_error)"
   ]
  },
  {
   "cell_type": "code",
   "execution_count": 51,
   "metadata": {},
   "outputs": [
    {
     "data": {
      "text/html": [
       "Total time: 01:08 <p><table style='width:300px; margin-bottom:10px'>\n",
       "  <tr>\n",
       "    <th>epoch</th>\n",
       "    <th>train_loss</th>\n",
       "    <th>valid_loss</th>\n",
       "    <th>mean_squared_error</th>\n",
       "  </tr>\n",
       "  <tr>\n",
       "    <th>1</th>\n",
       "    <th>1952.725342</th>\n",
       "    <th>2624.215576</th>\n",
       "    <th>2624.215820</th>\n",
       "  </tr>\n",
       "  <tr>\n",
       "    <th>2</th>\n",
       "    <th>859.386047</th>\n",
       "    <th>884.149841</th>\n",
       "    <th>884.149841</th>\n",
       "  </tr>\n",
       "  <tr>\n",
       "    <th>3</th>\n",
       "    <th>701.045471</th>\n",
       "    <th>886.350342</th>\n",
       "    <th>886.350342</th>\n",
       "  </tr>\n",
       "  <tr>\n",
       "    <th>4</th>\n",
       "    <th>580.045715</th>\n",
       "    <th>837.950500</th>\n",
       "    <th>837.950378</th>\n",
       "  </tr>\n",
       "  <tr>\n",
       "    <th>5</th>\n",
       "    <th>637.529053</th>\n",
       "    <th>820.432251</th>\n",
       "    <th>820.432129</th>\n",
       "  </tr>\n",
       "  <tr>\n",
       "    <th>6</th>\n",
       "    <th>579.821960</th>\n",
       "    <th>872.942078</th>\n",
       "    <th>872.942078</th>\n",
       "  </tr>\n",
       "  <tr>\n",
       "    <th>7</th>\n",
       "    <th>556.363647</th>\n",
       "    <th>1247.054932</th>\n",
       "    <th>1247.055054</th>\n",
       "  </tr>\n",
       "  <tr>\n",
       "    <th>8</th>\n",
       "    <th>579.258301</th>\n",
       "    <th>1039.326904</th>\n",
       "    <th>1039.326904</th>\n",
       "  </tr>\n",
       "  <tr>\n",
       "    <th>9</th>\n",
       "    <th>448.702118</th>\n",
       "    <th>831.094299</th>\n",
       "    <th>831.094360</th>\n",
       "  </tr>\n",
       "  <tr>\n",
       "    <th>10</th>\n",
       "    <th>319.120697</th>\n",
       "    <th>706.247070</th>\n",
       "    <th>706.247131</th>\n",
       "  </tr>\n",
       "  <tr>\n",
       "    <th>11</th>\n",
       "    <th>266.365723</th>\n",
       "    <th>744.147522</th>\n",
       "    <th>744.147522</th>\n",
       "  </tr>\n",
       "  <tr>\n",
       "    <th>12</th>\n",
       "    <th>272.789917</th>\n",
       "    <th>692.341248</th>\n",
       "    <th>692.341248</th>\n",
       "  </tr>\n",
       "  <tr>\n",
       "    <th>13</th>\n",
       "    <th>188.814804</th>\n",
       "    <th>724.902344</th>\n",
       "    <th>724.902344</th>\n",
       "  </tr>\n",
       "  <tr>\n",
       "    <th>14</th>\n",
       "    <th>177.728897</th>\n",
       "    <th>703.175476</th>\n",
       "    <th>703.175476</th>\n",
       "  </tr>\n",
       "  <tr>\n",
       "    <th>15</th>\n",
       "    <th>185.749573</th>\n",
       "    <th>701.791016</th>\n",
       "    <th>701.791016</th>\n",
       "  </tr>\n",
       "</table>\n"
      ],
      "text/plain": [
       "<IPython.core.display.HTML object>"
      ]
     },
     "metadata": {},
     "output_type": "display_data"
    }
   ],
   "source": [
    "lean_learn.fit_one_cycle(15, 5e-2)"
   ]
  },
  {
   "cell_type": "code",
   "execution_count": 82,
   "metadata": {},
   "outputs": [
    {
     "data": {
      "text/plain": [
       "country                          US\n",
       "designation                     NaN\n",
       "points                           90\n",
       "price                            24\n",
       "province                 Washington\n",
       "region_1       Columbia Valley (WA)\n",
       "region_2            Columbia Valley\n",
       "taster_name            Paul Gregutt\n",
       "variety                  Chardonnay\n",
       "winery                  Goose Ridge\n",
       "Name: 129656, dtype: object"
      ]
     },
     "execution_count": 82,
     "metadata": {},
     "output_type": "execute_result"
    }
   ],
   "source": [
    "model_data.iloc[-300]"
   ]
  },
  {
   "cell_type": "code",
   "execution_count": 88,
   "metadata": {
    "scrolled": true
   },
   "outputs": [
    {
     "name": "stdout",
     "output_type": "stream",
     "text": [
      "(FloatItem [23.280575], tensor([23.2806]), tensor([23.2806]))\n"
     ]
    },
    {
     "data": {
      "text/plain": [
       "tensor([76.0284])"
      ]
     },
     "execution_count": 88,
     "metadata": {},
     "output_type": "execute_result"
    }
   ],
   "source": [
    "i = -2\n",
    "print(learn.predict(model_data.iloc[i]))\n",
    "(learn.predict(model_data.iloc[i])[1] - model_data.iloc[i]['price'])**2"
   ]
  },
  {
   "cell_type": "code",
   "execution_count": 70,
   "metadata": {},
   "outputs": [],
   "source": [
    "pred1 = learn.predict(model_data.iloc[-1])"
   ]
  },
  {
   "cell_type": "code",
   "execution_count": 74,
   "metadata": {},
   "outputs": [
    {
     "data": {
      "text/plain": [
       "tensor([66.5595])"
      ]
     },
     "execution_count": 74,
     "metadata": {},
     "output_type": "execute_result"
    }
   ],
   "source": [
    "pred1[1]+pred1[2]"
   ]
  },
  {
   "cell_type": "code",
   "execution_count": 84,
   "metadata": {},
   "outputs": [
    {
     "data": {
      "text/plain": [
       "26.476404589747453"
      ]
     },
     "execution_count": 84,
     "metadata": {},
     "output_type": "execute_result"
    }
   ],
   "source": [
    "import math\n",
    "math.sqrt(701)"
   ]
  },
  {
   "cell_type": "code",
   "execution_count": 89,
   "metadata": {},
   "outputs": [
    {
     "data": {
      "text/plain": [
       "TabularModel(\n",
       "  (embeds): ModuleList(\n",
       "    (0): Embedding(42, 13)\n",
       "    (1): Embedding(31090, 525)\n",
       "    (2): Embedding(406, 46)\n",
       "    (3): Embedding(1176, 84)\n",
       "    (4): Embedding(18, 8)\n",
       "    (5): Embedding(662, 61)\n",
       "    (6): Embedding(20, 9)\n",
       "    (7): Embedding(14913, 348)\n",
       "  )\n",
       "  (emb_drop): Dropout(p=0.0)\n",
       "  (bn_cont): BatchNorm1d(1, eps=1e-05, momentum=0.1, affine=True, track_running_stats=True)\n",
       "  (layers): Sequential(\n",
       "    (0): Linear(in_features=1095, out_features=200, bias=True)\n",
       "    (1): ReLU(inplace)\n",
       "    (2): BatchNorm1d(200, eps=1e-05, momentum=0.1, affine=True, track_running_stats=True)\n",
       "    (3): Linear(in_features=200, out_features=100, bias=True)\n",
       "    (4): ReLU(inplace)\n",
       "    (5): BatchNorm1d(100, eps=1e-05, momentum=0.1, affine=True, track_running_stats=True)\n",
       "    (6): Linear(in_features=100, out_features=1, bias=True)\n",
       "  )\n",
       ")"
      ]
     },
     "execution_count": 89,
     "metadata": {},
     "output_type": "execute_result"
    }
   ],
   "source": [
    "learn.model"
   ]
  },
  {
   "cell_type": "code",
   "execution_count": 92,
   "metadata": {},
   "outputs": [],
   "source": [
    "small_data = model_data[model_data['price'] <= 100]\n",
    "small_valid = range(len(small_data)-int(len(small_data)*.2), len(small_data))\n",
    "\n",
    "high_price_removed_data = TabularDataBunch.from_df(path, small_data, dep_var\n",
    "                                , valid_idx=small_valid, procs=procs, cat_names=cat_names\n",
    "                                , bs = 1000)"
   ]
  },
  {
   "cell_type": "code",
   "execution_count": 93,
   "metadata": {},
   "outputs": [],
   "source": [
    "small_learner = tabular_learner(high_price_removed_data, layers=[200,100], metrics=mean_squared_error)"
   ]
  },
  {
   "cell_type": "code",
   "execution_count": 94,
   "metadata": {},
   "outputs": [
    {
     "data": {
      "text/html": [],
      "text/plain": [
       "<IPython.core.display.HTML object>"
      ]
     },
     "metadata": {},
     "output_type": "display_data"
    },
    {
     "name": "stdout",
     "output_type": "stream",
     "text": [
      "LR Finder is complete, type {learner_name}.recorder.plot() to see the graph.\n"
     ]
    }
   ],
   "source": [
    "small_learner.lr_find()"
   ]
  },
  {
   "cell_type": "code",
   "execution_count": 95,
   "metadata": {},
   "outputs": [
    {
     "name": "stdout",
     "output_type": "stream",
     "text": [
      "Min numerical gradient: 6.92E-02\n"
     ]
    },
    {
     "data": {
      "image/png": "[encoded data removed]",
      "text/plain": [
       "<Figure size 432x288 with 1 Axes>"
      ]
     },
     "metadata": {
      "needs_background": "light"
     },
     "output_type": "display_data"
    }
   ],
   "source": [
    "small_learner.recorder.plot()"
   ]
  },
  {
   "cell_type": "code",
   "execution_count": 96,
   "metadata": {},
   "outputs": [
    {
     "data": {
      "text/html": [
       "Total time: 00:36 <p><table style='width:300px; margin-bottom:10px'>\n",
       "  <tr>\n",
       "    <th>epoch</th>\n",
       "    <th>train_loss</th>\n",
       "    <th>valid_loss</th>\n",
       "    <th>mean_squared_error</th>\n",
       "  </tr>\n",
       "  <tr>\n",
       "    <th>1</th>\n",
       "    <th>547.103210</th>\n",
       "    <th>186.350403</th>\n",
       "    <th>186.350403</th>\n",
       "  </tr>\n",
       "  <tr>\n",
       "    <th>2</th>\n",
       "    <th>132.524796</th>\n",
       "    <th>112.364922</th>\n",
       "    <th>112.364922</th>\n",
       "  </tr>\n",
       "  <tr>\n",
       "    <th>3</th>\n",
       "    <th>62.934795</th>\n",
       "    <th>110.111176</th>\n",
       "    <th>110.111176</th>\n",
       "  </tr>\n",
       "  <tr>\n",
       "    <th>4</th>\n",
       "    <th>42.089172</th>\n",
       "    <th>102.490486</th>\n",
       "    <th>102.490486</th>\n",
       "  </tr>\n",
       "  <tr>\n",
       "    <th>5</th>\n",
       "    <th>31.096931</th>\n",
       "    <th>101.701469</th>\n",
       "    <th>101.701462</th>\n",
       "  </tr>\n",
       "  <tr>\n",
       "    <th>6</th>\n",
       "    <th>25.154987</th>\n",
       "    <th>102.088173</th>\n",
       "    <th>102.088173</th>\n",
       "  </tr>\n",
       "  <tr>\n",
       "    <th>7</th>\n",
       "    <th>19.793240</th>\n",
       "    <th>89.861679</th>\n",
       "    <th>89.861679</th>\n",
       "  </tr>\n",
       "  <tr>\n",
       "    <th>8</th>\n",
       "    <th>14.819968</th>\n",
       "    <th>90.850403</th>\n",
       "    <th>90.850410</th>\n",
       "  </tr>\n",
       "  <tr>\n",
       "    <th>9</th>\n",
       "    <th>11.259111</th>\n",
       "    <th>92.565529</th>\n",
       "    <th>92.565529</th>\n",
       "  </tr>\n",
       "  <tr>\n",
       "    <th>10</th>\n",
       "    <th>8.947577</th>\n",
       "    <th>90.772568</th>\n",
       "    <th>90.772568</th>\n",
       "  </tr>\n",
       "</table>\n"
      ],
      "text/plain": [
       "<IPython.core.display.HTML object>"
      ]
     },
     "metadata": {},
     "output_type": "display_data"
    }
   ],
   "source": [
    "small_learner.fit_one_cycle(10, 6e-2)"
   ]
  },
  {
   "cell_type": "code",
   "execution_count": 104,
   "metadata": {},
   "outputs": [
    {
     "data": {
      "text/plain": [
       "country                               France\n",
       "designation    Lieu-dit Harth Cuvée Caroline\n",
       "points                                    90\n",
       "price                                     21\n",
       "province                              Alsace\n",
       "region_1                              Alsace\n",
       "region_2                                 NaN\n",
       "taster_name                       Roger Voss\n",
       "variety                       Gewürztraminer\n",
       "winery                      Domaine Schoffit\n",
       "Name: 129970, dtype: object"
      ]
     },
     "execution_count": 104,
     "metadata": {},
     "output_type": "execute_result"
    }
   ],
   "source": [
    "small_data.iloc[-1]"
   ]
  },
  {
   "cell_type": "code",
   "execution_count": 105,
   "metadata": {},
   "outputs": [
    {
     "data": {
      "text/plain": [
       "(FloatItem [23.579622], tensor([23.5796]), tensor([23.5796]))"
      ]
     },
     "execution_count": 105,
     "metadata": {},
     "output_type": "execute_result"
    }
   ],
   "source": [
    "small_learner.predict(small_data.iloc[-1])"
   ]
  },
  {
   "cell_type": "code",
   "execution_count": 111,
   "metadata": {},
   "outputs": [],
   "source": [
    "test = small_data.iloc[-1].copy()"
   ]
  },
  {
   "cell_type": "code",
   "execution_count": 115,
   "metadata": {},
   "outputs": [],
   "source": [
    "test['points'] = 10"
   ]
  },
  {
   "cell_type": "code",
   "execution_count": 117,
   "metadata": {},
   "outputs": [
    {
     "data": {
      "text/plain": [
       "(FloatItem [23.653702], tensor([23.6537]), tensor([23.6537]))"
      ]
     },
     "execution_count": 117,
     "metadata": {},
     "output_type": "execute_result"
    }
   ],
   "source": [
    "small_learner.predict(test)"
   ]
  },
  {
   "cell_type": "code",
   "execution_count": 114,
   "metadata": {},
   "outputs": [
    {
     "data": {
      "text/plain": [
       "country                               France\n",
       "designation    Lieu-dit Harth Cuvée Caroline\n",
       "points                                    10\n",
       "price                                     21\n",
       "province                              Alsace\n",
       "region_1                              Alsace\n",
       "region_2                                 NaN\n",
       "taster_name                       Roger Voss\n",
       "variety                       Gewürztraminer\n",
       "winery                      Domaine Schoffit\n",
       "Name: 129970, dtype: object"
      ]
     },
     "execution_count": 114,
     "metadata": {},
     "output_type": "execute_result"
    }
   ],
   "source": [
    "test"
   ]
  },
  {
   "cell_type": "code",
   "execution_count": 118,
   "metadata": {},
   "outputs": [],
   "source": [
    "cat_names = ['country', 'designation', 'province', 'region_1', 'region_2', 'variety', 'taster_name', 'winery']\n",
    "\n",
    "high_price_removed_data_pts_not_cat = TabularDataBunch.from_df(path, small_data, dep_var\n",
    "                                , valid_idx=small_valid, procs=procs, cat_names=cat_names\n",
    "                                , bs = 1000)"
   ]
  },
  {
   "cell_type": "code",
   "execution_count": 119,
   "metadata": {},
   "outputs": [],
   "source": [
    "small_learner2 = tabular_learner(high_price_removed_data_pts_not_cat, layers=[200,100], metrics=mean_squared_error)"
   ]
  },
  {
   "cell_type": "code",
   "execution_count": 120,
   "metadata": {},
   "outputs": [
    {
     "data": {
      "text/html": [
       "Total time: 00:39 <p><table style='width:300px; margin-bottom:10px'>\n",
       "  <tr>\n",
       "    <th>epoch</th>\n",
       "    <th>train_loss</th>\n",
       "    <th>valid_loss</th>\n",
       "    <th>mean_squared_error</th>\n",
       "  </tr>\n",
       "  <tr>\n",
       "    <th>1</th>\n",
       "    <th>544.045715</th>\n",
       "    <th>172.214218</th>\n",
       "    <th>172.214203</th>\n",
       "  </tr>\n",
       "  <tr>\n",
       "    <th>2</th>\n",
       "    <th>130.734238</th>\n",
       "    <th>118.183350</th>\n",
       "    <th>118.183350</th>\n",
       "  </tr>\n",
       "  <tr>\n",
       "    <th>3</th>\n",
       "    <th>62.811916</th>\n",
       "    <th>119.784195</th>\n",
       "    <th>119.784172</th>\n",
       "  </tr>\n",
       "  <tr>\n",
       "    <th>4</th>\n",
       "    <th>43.248920</th>\n",
       "    <th>102.914101</th>\n",
       "    <th>102.914101</th>\n",
       "  </tr>\n",
       "  <tr>\n",
       "    <th>5</th>\n",
       "    <th>33.515717</th>\n",
       "    <th>91.211113</th>\n",
       "    <th>91.211113</th>\n",
       "  </tr>\n",
       "  <tr>\n",
       "    <th>6</th>\n",
       "    <th>26.366064</th>\n",
       "    <th>96.569473</th>\n",
       "    <th>96.569458</th>\n",
       "  </tr>\n",
       "  <tr>\n",
       "    <th>7</th>\n",
       "    <th>20.634518</th>\n",
       "    <th>95.242615</th>\n",
       "    <th>95.242622</th>\n",
       "  </tr>\n",
       "  <tr>\n",
       "    <th>8</th>\n",
       "    <th>15.454738</th>\n",
       "    <th>89.750595</th>\n",
       "    <th>89.750603</th>\n",
       "  </tr>\n",
       "  <tr>\n",
       "    <th>9</th>\n",
       "    <th>11.398589</th>\n",
       "    <th>91.812698</th>\n",
       "    <th>91.812714</th>\n",
       "  </tr>\n",
       "  <tr>\n",
       "    <th>10</th>\n",
       "    <th>9.119390</th>\n",
       "    <th>91.614639</th>\n",
       "    <th>91.614632</th>\n",
       "  </tr>\n",
       "</table>\n"
      ],
      "text/plain": [
       "<IPython.core.display.HTML object>"
      ]
     },
     "metadata": {},
     "output_type": "display_data"
    }
   ],
   "source": [
    "small_learner2.fit_one_cycle(10, 6e-2)"
   ]
  },
  {
   "cell_type": "code",
   "execution_count": 121,
   "metadata": {},
   "outputs": [],
   "source": [
    "test = small_data.iloc[-1].copy()"
   ]
  },
  {
   "cell_type": "code",
   "execution_count": 122,
   "metadata": {},
   "outputs": [],
   "source": [
    "test['points'] = 10"
   ]
  },
  {
   "cell_type": "code",
   "execution_count": 123,
   "metadata": {},
   "outputs": [
    {
     "data": {
      "text/plain": [
       "(FloatItem [24.628624], tensor([24.6286]), tensor([24.6286]))"
      ]
     },
     "execution_count": 123,
     "metadata": {},
     "output_type": "execute_result"
    }
   ],
   "source": [
    "small_learner2.predict(small_data.iloc[-1])"
   ]
  },
  {
   "cell_type": "code",
   "execution_count": 124,
   "metadata": {},
   "outputs": [
    {
     "data": {
      "text/plain": [
       "country                               France\n",
       "designation    Lieu-dit Harth Cuvée Caroline\n",
       "points                                    90\n",
       "price                                     21\n",
       "province                              Alsace\n",
       "region_1                              Alsace\n",
       "region_2                                 NaN\n",
       "taster_name                       Roger Voss\n",
       "variety                       Gewürztraminer\n",
       "winery                      Domaine Schoffit\n",
       "Name: 129970, dtype: object"
      ]
     },
     "execution_count": 124,
     "metadata": {},
     "output_type": "execute_result"
    }
   ],
   "source": [
    "small_data.iloc[-1]"
   ]
  },
  {
   "cell_type": "code",
   "execution_count": 125,
   "metadata": {},
   "outputs": [
    {
     "data": {
      "text/plain": [
       "(FloatItem [-10.118028], tensor([-10.1180]), tensor([-10.1180]))"
      ]
     },
     "execution_count": 125,
     "metadata": {},
     "output_type": "execute_result"
    }
   ],
   "source": [
    "small_learner2.predict(test)"
   ]
  },
  {
   "cell_type": "code",
   "execution_count": 126,
   "metadata": {},
   "outputs": [
    {
     "data": {
      "text/plain": [
       "{80,\n",
       " 81,\n",
       " 82,\n",
       " 83,\n",
       " 84,\n",
       " 85,\n",
       " 86,\n",
       " 87,\n",
       " 88,\n",
       " 89,\n",
       " 90,\n",
       " 91,\n",
       " 92,\n",
       " 93,\n",
       " 94,\n",
       " 95,\n",
       " 96,\n",
       " 97,\n",
       " 98,\n",
       " 99,\n",
       " 100}"
      ]
     },
     "execution_count": 126,
     "metadata": {},
     "output_type": "execute_result"
    }
   ],
   "source": [
    "set(model_data['points'])"
   ]
  },
  {
   "cell_type": "code",
   "execution_count": 146,
   "metadata": {},
   "outputs": [
    {
     "name": "stdout",
     "output_type": "stream",
     "text": [
      "Score of 50 points leads to prediction of (FloatItem [9.267468], tensor([9.2675]), tensor([9.2675]))\n",
      "Score of 51 points leads to prediction of (FloatItem [9.684968], tensor([9.6850]), tensor([9.6850]))\n",
      "Score of 52 points leads to prediction of (FloatItem [10.102499], tensor([10.1025]), tensor([10.1025]))\n",
      "Score of 53 points leads to prediction of (FloatItem [10.520097], tensor([10.5201]), tensor([10.5201]))\n",
      "Score of 54 points leads to prediction of (FloatItem [10.937696], tensor([10.9377]), tensor([10.9377]))\n",
      "Score of 55 points leads to prediction of (FloatItem [11.355294], tensor([11.3553]), tensor([11.3553]))\n",
      "Score of 56 points leads to prediction of (FloatItem [11.76877], tensor([11.7688]), tensor([11.7688]))\n",
      "Score of 57 points leads to prediction of (FloatItem [12.17068], tensor([12.1707]), tensor([12.1707]))\n",
      "Score of 58 points leads to prediction of (FloatItem [12.575765], tensor([12.5758]), tensor([12.5758]))\n",
      "Score of 59 points leads to prediction of (FloatItem [12.980487], tensor([12.9805]), tensor([12.9805]))\n",
      "Score of 60 points leads to prediction of (FloatItem [13.382803], tensor([13.3828]), tensor([13.3828]))\n",
      "Score of 61 points leads to prediction of (FloatItem [13.775867], tensor([13.7759]), tensor([13.7759]))\n",
      "Score of 62 points leads to prediction of (FloatItem [14.187067], tensor([14.1871]), tensor([14.1871]))\n",
      "Score of 63 points leads to prediction of (FloatItem [14.599476], tensor([14.5995]), tensor([14.5995]))\n",
      "Score of 64 points leads to prediction of (FloatItem [15.009971], tensor([15.0100]), tensor([15.0100]))\n",
      "Score of 65 points leads to prediction of (FloatItem [15.418875], tensor([15.4189]), tensor([15.4189]))\n",
      "Score of 66 points leads to prediction of (FloatItem [15.8255], tensor([15.8255]), tensor([15.8255]))\n",
      "Score of 67 points leads to prediction of (FloatItem [16.231941], tensor([16.2319]), tensor([16.2319]))\n",
      "Score of 68 points leads to prediction of (FloatItem [16.64016], tensor([16.6402]), tensor([16.6402]))\n",
      "Score of 69 points leads to prediction of (FloatItem [17.049887], tensor([17.0499]), tensor([17.0499]))\n",
      "Score of 70 points leads to prediction of (FloatItem [17.43151], tensor([17.4315]), tensor([17.4315]))\n",
      "Score of 71 points leads to prediction of (FloatItem [17.759132], tensor([17.7591]), tensor([17.7591]))\n",
      "Score of 72 points leads to prediction of (FloatItem [18.090454], tensor([18.0905]), tensor([18.0905]))\n",
      "Score of 73 points leads to prediction of (FloatItem [18.41653], tensor([18.4165]), tensor([18.4165]))\n",
      "Score of 74 points leads to prediction of (FloatItem [18.738989], tensor([18.7390]), tensor([18.7390]))\n",
      "Score of 75 points leads to prediction of (FloatItem [19.080282], tensor([19.0803]), tensor([19.0803]))\n",
      "Score of 76 points leads to prediction of (FloatItem [19.41089], tensor([19.4109]), tensor([19.4109]))\n",
      "Score of 77 points leads to prediction of (FloatItem [19.712727], tensor([19.7127]), tensor([19.7127]))\n",
      "Score of 78 points leads to prediction of (FloatItem [20.044273], tensor([20.0443]), tensor([20.0443]))\n",
      "Score of 79 points leads to prediction of (FloatItem [20.3026], tensor([20.3026]), tensor([20.3026]))\n",
      "Score of 80 points leads to prediction of (FloatItem [20.506989], tensor([20.5070]), tensor([20.5070]))\n",
      "Score of 81 points leads to prediction of (FloatItem [20.686619], tensor([20.6866]), tensor([20.6866]))\n",
      "Score of 82 points leads to prediction of (FloatItem [20.854235], tensor([20.8542]), tensor([20.8542]))\n",
      "Score of 83 points leads to prediction of (FloatItem [21.104273], tensor([21.1043]), tensor([21.1043]))\n",
      "Score of 84 points leads to prediction of (FloatItem [21.492918], tensor([21.4929]), tensor([21.4929]))\n",
      "Score of 85 points leads to prediction of (FloatItem [21.897373], tensor([21.8974]), tensor([21.8974]))\n",
      "Score of 86 points leads to prediction of (FloatItem [22.233194], tensor([22.2332]), tensor([22.2332]))\n",
      "Score of 87 points leads to prediction of (FloatItem [22.525345], tensor([22.5253]), tensor([22.5253]))\n",
      "Score of 88 points leads to prediction of (FloatItem [22.938204], tensor([22.9382]), tensor([22.9382]))\n",
      "Score of 89 points leads to prediction of (FloatItem [23.597292], tensor([23.5973]), tensor([23.5973]))\n",
      "Score of 90 points leads to prediction of (FloatItem [24.628624], tensor([24.6286]), tensor([24.6286]))\n",
      "Score of 91 points leads to prediction of (FloatItem [25.703884], tensor([25.7039]), tensor([25.7039]))\n",
      "Score of 92 points leads to prediction of (FloatItem [28.572313], tensor([28.5723]), tensor([28.5723]))\n",
      "Score of 93 points leads to prediction of (FloatItem [32.37119], tensor([32.3712]), tensor([32.3712]))\n",
      "Score of 94 points leads to prediction of (FloatItem [36.905445], tensor([36.9054]), tensor([36.9054]))\n",
      "Score of 95 points leads to prediction of (FloatItem [42.140774], tensor([42.1408]), tensor([42.1408]))\n",
      "Score of 96 points leads to prediction of (FloatItem [47.487453], tensor([47.4875]), tensor([47.4875]))\n",
      "Score of 97 points leads to prediction of (FloatItem [52.460194], tensor([52.4602]), tensor([52.4602]))\n",
      "Score of 98 points leads to prediction of (FloatItem [57.452396], tensor([57.4524]), tensor([57.4524]))\n",
      "Score of 99 points leads to prediction of (FloatItem [60.706863], tensor([60.7069]), tensor([60.7069]))\n",
      "Score of 100 points leads to prediction of (FloatItem [62.80755], tensor([62.8075]), tensor([62.8075]))\n"
     ]
    }
   ],
   "source": [
    "prices = []\n",
    "#for p in set(model_data['points']):\n",
    "for p in range(50, 101):\n",
    "    test['points'] = p\n",
    "    price = small_learner2.predict(test)\n",
    "    print(f'Score of {p} points leads to prediction of {price}')\n",
    "    prices.append((p,float(price[1])))"
   ]
  },
  {
   "cell_type": "code",
   "execution_count": 147,
   "metadata": {},
   "outputs": [
    {
     "data": {
      "image/png": "[encoded data removed]",
      "text/plain": [
       "<Figure size 432x288 with 1 Axes>"
      ]
     },
     "metadata": {
      "needs_background": "light"
     },
     "output_type": "display_data"
    }
   ],
   "source": [
    "plt.plot(*(zip(*prices)))\n",
    "plt.show()"
   ]
  },
  {
   "cell_type": "markdown",
   "metadata": {},
   "source": [
    "Interesting,.  One lesson learned here is that it is important to mconsider whether to make veraibles that could be considered continuous or categorical very carefully."
   ]
  },
  {
   "cell_type": "code",
   "execution_count": 156,
   "metadata": {},
   "outputs": [
    {
     "data": {
      "text/plain": [
       "ModuleList(\n",
       "  (0): Embedding(42, 13)\n",
       "  (1): Embedding(30125, 516)\n",
       "  (2): Embedding(405, 46)\n",
       "  (3): Embedding(1147, 83)\n",
       "  (4): Embedding(18, 8)\n",
       "  (5): Embedding(658, 61)\n",
       "  (6): Embedding(20, 9)\n",
       "  (7): Embedding(14767, 346)\n",
       ")"
      ]
     },
     "execution_count": 156,
     "metadata": {},
     "output_type": "execute_result"
    }
   ],
   "source": [
    "small_learner2.model.embeds"
   ]
  },
  {
   "cell_type": "code",
   "execution_count": 152,
   "metadata": {},
   "outputs": [
    {
     "name": "stdout",
     "output_type": "stream",
     "text": [
      "country 43\n",
      "designation 34672\n",
      "points 21\n",
      "price 97\n",
      "province 422\n",
      "region_1 1177\n",
      "region_2 18\n",
      "taster_name 20\n",
      "variety 693\n",
      "winery 15706\n"
     ]
    }
   ],
   "source": [
    "for c in small_data.columns:\n",
    "    print(c,len(set(small_data[c])))"
   ]
  },
  {
   "cell_type": "code",
   "execution_count": 157,
   "metadata": {},
   "outputs": [],
   "source": [
    "max_price = max(small_data['price'])\n",
    "\n",
    "\n",
    "small_learner2_floored = tabular_learner(high_price_removed_data_pts_not_cat, layers=[200,100]\n",
    "                                         , metrics=mean_squared_error, y_range=[0, max_price*1.5])"
   ]
  },
  {
   "cell_type": "code",
   "execution_count": 158,
   "metadata": {},
   "outputs": [
    {
     "data": {
      "text/html": [],
      "text/plain": [
       "<IPython.core.display.HTML object>"
      ]
     },
     "metadata": {},
     "output_type": "display_data"
    },
    {
     "name": "stdout",
     "output_type": "stream",
     "text": [
      "LR Finder is complete, type {learner_name}.recorder.plot() to see the graph.\n"
     ]
    }
   ],
   "source": [
    "small_learner2_floored.lr_find()"
   ]
  },
  {
   "cell_type": "code",
   "execution_count": 159,
   "metadata": {},
   "outputs": [
    {
     "name": "stdout",
     "output_type": "stream",
     "text": [
      "Min numerical gradient: 2.75E-02\n"
     ]
    },
    {
     "data": {
      "image/png": "[encoded data removed]",
      "text/plain": [
       "<Figure size 432x288 with 1 Axes>"
      ]
     },
     "metadata": {
      "needs_background": "light"
     },
     "output_type": "display_data"
    }
   ],
   "source": [
    "small_learner2_floored.recorder.plot()"
   ]
  },
  {
   "cell_type": "code",
   "execution_count": 160,
   "metadata": {},
   "outputs": [
    {
     "data": {
      "text/html": [
       "Total time: 00:33 <p><table style='width:300px; margin-bottom:10px'>\n",
       "  <tr>\n",
       "    <th>epoch</th>\n",
       "    <th>train_loss</th>\n",
       "    <th>valid_loss</th>\n",
       "    <th>mean_squared_error</th>\n",
       "  </tr>\n",
       "  <tr>\n",
       "    <th>1</th>\n",
       "    <th>446.196350</th>\n",
       "    <th>238.527740</th>\n",
       "    <th>238.527740</th>\n",
       "  </tr>\n",
       "  <tr>\n",
       "    <th>2</th>\n",
       "    <th>143.568283</th>\n",
       "    <th>176.266571</th>\n",
       "    <th>176.266586</th>\n",
       "  </tr>\n",
       "  <tr>\n",
       "    <th>3</th>\n",
       "    <th>74.294273</th>\n",
       "    <th>126.743294</th>\n",
       "    <th>126.743301</th>\n",
       "  </tr>\n",
       "  <tr>\n",
       "    <th>4</th>\n",
       "    <th>47.071224</th>\n",
       "    <th>100.525040</th>\n",
       "    <th>100.525055</th>\n",
       "  </tr>\n",
       "  <tr>\n",
       "    <th>5</th>\n",
       "    <th>34.971268</th>\n",
       "    <th>97.946922</th>\n",
       "    <th>97.946938</th>\n",
       "  </tr>\n",
       "  <tr>\n",
       "    <th>6</th>\n",
       "    <th>27.729832</th>\n",
       "    <th>93.821838</th>\n",
       "    <th>93.821838</th>\n",
       "  </tr>\n",
       "  <tr>\n",
       "    <th>7</th>\n",
       "    <th>21.952883</th>\n",
       "    <th>97.933456</th>\n",
       "    <th>97.933464</th>\n",
       "  </tr>\n",
       "  <tr>\n",
       "    <th>8</th>\n",
       "    <th>17.145430</th>\n",
       "    <th>94.597252</th>\n",
       "    <th>94.597267</th>\n",
       "  </tr>\n",
       "  <tr>\n",
       "    <th>9</th>\n",
       "    <th>12.936330</th>\n",
       "    <th>91.313011</th>\n",
       "    <th>91.313011</th>\n",
       "  </tr>\n",
       "  <tr>\n",
       "    <th>10</th>\n",
       "    <th>10.074520</th>\n",
       "    <th>94.028099</th>\n",
       "    <th>94.028114</th>\n",
       "  </tr>\n",
       "</table>\n"
      ],
      "text/plain": [
       "<IPython.core.display.HTML object>"
      ]
     },
     "metadata": {},
     "output_type": "display_data"
    }
   ],
   "source": [
    "small_learner2_floored.fit_one_cycle(10, 2.75e-2)"
   ]
  },
  {
   "cell_type": "code",
   "execution_count": null,
   "metadata": {},
   "outputs": [],
   "source": []
  }
 ],
 "metadata": {
  "kernelspec": {
   "display_name": "pytorch_fastai",
   "language": "python",
   "name": "python3"
  },
  "language_info": {
   "codemirror_mode": {
    "name": "ipython",
    "version": 3
   },
   "file_extension": ".py",
   "mimetype": "text/x-python",
   "name": "python",
   "nbconvert_exporter": "python",
   "pygments_lexer": "ipython3",
   "version": "3.7.1"
  }
 },
 "nbformat": 4,
 "nbformat_minor": 2
}
